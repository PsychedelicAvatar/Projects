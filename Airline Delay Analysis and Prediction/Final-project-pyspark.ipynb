{
 "cells": [
  {
   "cell_type": "code",
   "execution_count": 1,
   "metadata": {},
   "outputs": [],
   "source": [
    "import findspark\n",
    "findspark.init()\n",
    "from pyspark import SparkContext\n",
    "from pyspark import SparkConf\n",
    "\n",
    "import pyspark # only run after findspark.init()\n",
    "from pyspark.sql import SparkSession\n",
    "spark = SparkSession.builder.getOrCreate()\n",
    "df=spark.read.format(\"csv\").option(\"header\",\"true\").option(\"inferSchema\",'True').load('2018.csv')"
   ]
  },
  {
   "cell_type": "code",
   "execution_count": 3,
   "metadata": {},
   "outputs": [],
   "source": [
    "#df.createOrReplaceTempView(\"df1\")"
   ]
  },
  {
   "cell_type": "code",
   "execution_count": 4,
   "metadata": {},
   "outputs": [],
   "source": [
    "#df=spark.sql('select * from df1')\n",
    "#df.show()"
   ]
  },
  {
   "cell_type": "code",
   "execution_count": 2,
   "metadata": {},
   "outputs": [
    {
     "data": {
      "text/html": [
       "<div>\n",
       "<style scoped>\n",
       "    .dataframe tbody tr th:only-of-type {\n",
       "        vertical-align: middle;\n",
       "    }\n",
       "\n",
       "    .dataframe tbody tr th {\n",
       "        vertical-align: top;\n",
       "    }\n",
       "\n",
       "    .dataframe thead th {\n",
       "        text-align: right;\n",
       "    }\n",
       "</style>\n",
       "<table border=\"1\" class=\"dataframe\">\n",
       "  <thead>\n",
       "    <tr style=\"text-align: right;\">\n",
       "      <th></th>\n",
       "      <th>FL_DATE</th>\n",
       "      <th>OP_CARRIER</th>\n",
       "      <th>OP_CARRIER_FL_NUM</th>\n",
       "      <th>ORIGIN</th>\n",
       "      <th>DEST</th>\n",
       "      <th>CRS_DEP_TIME</th>\n",
       "      <th>DEP_TIME</th>\n",
       "      <th>DEP_DELAY</th>\n",
       "      <th>TAXI_OUT</th>\n",
       "      <th>WHEELS_OFF</th>\n",
       "      <th>...</th>\n",
       "      <th>CRS_ELAPSED_TIME</th>\n",
       "      <th>ACTUAL_ELAPSED_TIME</th>\n",
       "      <th>AIR_TIME</th>\n",
       "      <th>DISTANCE</th>\n",
       "      <th>CARRIER_DELAY</th>\n",
       "      <th>WEATHER_DELAY</th>\n",
       "      <th>NAS_DELAY</th>\n",
       "      <th>SECURITY_DELAY</th>\n",
       "      <th>LATE_AIRCRAFT_DELAY</th>\n",
       "      <th>Unnamed: 27</th>\n",
       "    </tr>\n",
       "  </thead>\n",
       "  <tbody>\n",
       "    <tr>\n",
       "      <th>0</th>\n",
       "      <td>2018-01-01</td>\n",
       "      <td>UA</td>\n",
       "      <td>2429</td>\n",
       "      <td>EWR</td>\n",
       "      <td>DEN</td>\n",
       "      <td>1517</td>\n",
       "      <td>1512.0</td>\n",
       "      <td>-5.0</td>\n",
       "      <td>15.0</td>\n",
       "      <td>1527.0</td>\n",
       "      <td>...</td>\n",
       "      <td>268.0</td>\n",
       "      <td>250.0</td>\n",
       "      <td>225.0</td>\n",
       "      <td>1605.0</td>\n",
       "      <td>NaN</td>\n",
       "      <td>NaN</td>\n",
       "      <td>NaN</td>\n",
       "      <td>NaN</td>\n",
       "      <td>NaN</td>\n",
       "      <td>None</td>\n",
       "    </tr>\n",
       "    <tr>\n",
       "      <th>1</th>\n",
       "      <td>2018-01-01</td>\n",
       "      <td>UA</td>\n",
       "      <td>2427</td>\n",
       "      <td>LAS</td>\n",
       "      <td>SFO</td>\n",
       "      <td>1115</td>\n",
       "      <td>1107.0</td>\n",
       "      <td>-8.0</td>\n",
       "      <td>11.0</td>\n",
       "      <td>1118.0</td>\n",
       "      <td>...</td>\n",
       "      <td>99.0</td>\n",
       "      <td>83.0</td>\n",
       "      <td>65.0</td>\n",
       "      <td>414.0</td>\n",
       "      <td>NaN</td>\n",
       "      <td>NaN</td>\n",
       "      <td>NaN</td>\n",
       "      <td>NaN</td>\n",
       "      <td>NaN</td>\n",
       "      <td>None</td>\n",
       "    </tr>\n",
       "    <tr>\n",
       "      <th>2</th>\n",
       "      <td>2018-01-01</td>\n",
       "      <td>UA</td>\n",
       "      <td>2426</td>\n",
       "      <td>SNA</td>\n",
       "      <td>DEN</td>\n",
       "      <td>1335</td>\n",
       "      <td>1330.0</td>\n",
       "      <td>-5.0</td>\n",
       "      <td>15.0</td>\n",
       "      <td>1345.0</td>\n",
       "      <td>...</td>\n",
       "      <td>134.0</td>\n",
       "      <td>126.0</td>\n",
       "      <td>106.0</td>\n",
       "      <td>846.0</td>\n",
       "      <td>NaN</td>\n",
       "      <td>NaN</td>\n",
       "      <td>NaN</td>\n",
       "      <td>NaN</td>\n",
       "      <td>NaN</td>\n",
       "      <td>None</td>\n",
       "    </tr>\n",
       "    <tr>\n",
       "      <th>3</th>\n",
       "      <td>2018-01-01</td>\n",
       "      <td>UA</td>\n",
       "      <td>2425</td>\n",
       "      <td>RSW</td>\n",
       "      <td>ORD</td>\n",
       "      <td>1546</td>\n",
       "      <td>1552.0</td>\n",
       "      <td>6.0</td>\n",
       "      <td>19.0</td>\n",
       "      <td>1611.0</td>\n",
       "      <td>...</td>\n",
       "      <td>190.0</td>\n",
       "      <td>182.0</td>\n",
       "      <td>157.0</td>\n",
       "      <td>1120.0</td>\n",
       "      <td>NaN</td>\n",
       "      <td>NaN</td>\n",
       "      <td>NaN</td>\n",
       "      <td>NaN</td>\n",
       "      <td>NaN</td>\n",
       "      <td>None</td>\n",
       "    </tr>\n",
       "    <tr>\n",
       "      <th>4</th>\n",
       "      <td>2018-01-01</td>\n",
       "      <td>UA</td>\n",
       "      <td>2424</td>\n",
       "      <td>ORD</td>\n",
       "      <td>ALB</td>\n",
       "      <td>630</td>\n",
       "      <td>650.0</td>\n",
       "      <td>20.0</td>\n",
       "      <td>13.0</td>\n",
       "      <td>703.0</td>\n",
       "      <td>...</td>\n",
       "      <td>112.0</td>\n",
       "      <td>106.0</td>\n",
       "      <td>83.0</td>\n",
       "      <td>723.0</td>\n",
       "      <td>NaN</td>\n",
       "      <td>NaN</td>\n",
       "      <td>NaN</td>\n",
       "      <td>NaN</td>\n",
       "      <td>NaN</td>\n",
       "      <td>None</td>\n",
       "    </tr>\n",
       "  </tbody>\n",
       "</table>\n",
       "<p>5 rows × 28 columns</p>\n",
       "</div>"
      ],
      "text/plain": [
       "     FL_DATE OP_CARRIER  OP_CARRIER_FL_NUM ORIGIN DEST  CRS_DEP_TIME  \\\n",
       "0 2018-01-01         UA               2429    EWR  DEN          1517   \n",
       "1 2018-01-01         UA               2427    LAS  SFO          1115   \n",
       "2 2018-01-01         UA               2426    SNA  DEN          1335   \n",
       "3 2018-01-01         UA               2425    RSW  ORD          1546   \n",
       "4 2018-01-01         UA               2424    ORD  ALB           630   \n",
       "\n",
       "   DEP_TIME  DEP_DELAY  TAXI_OUT  WHEELS_OFF  ...  CRS_ELAPSED_TIME  \\\n",
       "0    1512.0       -5.0      15.0      1527.0  ...             268.0   \n",
       "1    1107.0       -8.0      11.0      1118.0  ...              99.0   \n",
       "2    1330.0       -5.0      15.0      1345.0  ...             134.0   \n",
       "3    1552.0        6.0      19.0      1611.0  ...             190.0   \n",
       "4     650.0       20.0      13.0       703.0  ...             112.0   \n",
       "\n",
       "   ACTUAL_ELAPSED_TIME  AIR_TIME  DISTANCE  CARRIER_DELAY  WEATHER_DELAY  \\\n",
       "0                250.0     225.0    1605.0            NaN            NaN   \n",
       "1                 83.0      65.0     414.0            NaN            NaN   \n",
       "2                126.0     106.0     846.0            NaN            NaN   \n",
       "3                182.0     157.0    1120.0            NaN            NaN   \n",
       "4                106.0      83.0     723.0            NaN            NaN   \n",
       "\n",
       "  NAS_DELAY  SECURITY_DELAY  LATE_AIRCRAFT_DELAY  Unnamed: 27  \n",
       "0       NaN             NaN                  NaN         None  \n",
       "1       NaN             NaN                  NaN         None  \n",
       "2       NaN             NaN                  NaN         None  \n",
       "3       NaN             NaN                  NaN         None  \n",
       "4       NaN             NaN                  NaN         None  \n",
       "\n",
       "[5 rows x 28 columns]"
      ]
     },
     "metadata": {},
     "output_type": "display_data"
    }
   ],
   "source": [
    "df_pandas = df.limit(5).toPandas()\n",
    "display(df_pandas)"
   ]
  },
  {
   "cell_type": "code",
   "execution_count": 3,
   "metadata": {},
   "outputs": [
    {
     "data": {
      "text/plain": [
       "7213446"
      ]
     },
     "execution_count": 3,
     "metadata": {},
     "output_type": "execute_result"
    }
   ],
   "source": [
    "df.count()"
   ]
  },
  {
   "cell_type": "code",
   "execution_count": 4,
   "metadata": {},
   "outputs": [
    {
     "data": {
      "text/plain": [
       "7213446"
      ]
     },
     "execution_count": 4,
     "metadata": {},
     "output_type": "execute_result"
    }
   ],
   "source": [
    "df.distinct().count()\n",
    "#This shows there are no duplicate rows"
   ]
  },
  {
   "cell_type": "code",
   "execution_count": 8,
   "metadata": {},
   "outputs": [
    {
     "name": "stdout",
     "output_type": "stream",
     "text": [
      "root\n",
      " |-- FL_DATE: timestamp (nullable = true)\n",
      " |-- OP_CARRIER: string (nullable = true)\n",
      " |-- OP_CARRIER_FL_NUM: integer (nullable = true)\n",
      " |-- ORIGIN: string (nullable = true)\n",
      " |-- DEST: string (nullable = true)\n",
      " |-- CRS_DEP_TIME: integer (nullable = true)\n",
      " |-- DEP_TIME: double (nullable = true)\n",
      " |-- DEP_DELAY: double (nullable = true)\n",
      " |-- TAXI_OUT: double (nullable = true)\n",
      " |-- WHEELS_OFF: double (nullable = true)\n",
      " |-- WHEELS_ON: double (nullable = true)\n",
      " |-- TAXI_IN: double (nullable = true)\n",
      " |-- CRS_ARR_TIME: integer (nullable = true)\n",
      " |-- ARR_TIME: double (nullable = true)\n",
      " |-- ARR_DELAY: double (nullable = true)\n",
      " |-- CANCELLED: double (nullable = true)\n",
      " |-- CANCELLATION_CODE: string (nullable = true)\n",
      " |-- DIVERTED: double (nullable = true)\n",
      " |-- CRS_ELAPSED_TIME: double (nullable = true)\n",
      " |-- ACTUAL_ELAPSED_TIME: double (nullable = true)\n",
      " |-- AIR_TIME: double (nullable = true)\n",
      " |-- DISTANCE: double (nullable = true)\n",
      " |-- CARRIER_DELAY: double (nullable = true)\n",
      " |-- WEATHER_DELAY: double (nullable = true)\n",
      " |-- NAS_DELAY: double (nullable = true)\n",
      " |-- SECURITY_DELAY: double (nullable = true)\n",
      " |-- LATE_AIRCRAFT_DELAY: double (nullable = true)\n",
      " |-- Unnamed: 27: string (nullable = true)\n",
      "\n"
     ]
    }
   ],
   "source": [
    "df.printSchema()"
   ]
  },
  {
   "cell_type": "code",
   "execution_count": 5,
   "metadata": {},
   "outputs": [
    {
     "name": "stdout",
     "output_type": "stream",
     "text": [
      "FL_DATE ------------- 0.0\n",
      "OP_CARRIER ---------- 0.0\n",
      "OP_CARRIER_FL_NUM --- 0.0\n",
      "ORIGIN -------------- 0.0\n",
      "DEST ---------------- 0.0\n",
      "CRS_DEP_TIME -------- 0.0\n",
      "DEP_TIME ------------ 1.5570505414471807\n",
      "DEP_DELAY ----------- 1.6252149111534209\n",
      "TAXI_OUT ------------ 1.6057512595228411\n",
      "WHEELS_OFF ---------- 1.605737396523104\n",
      "WHEELS_ON ----------- 1.653107266624024\n",
      "TAXI_IN ------------- 1.653107266624024\n",
      "CRS_ARR_TIME -------- 0.0\n",
      "ARR_TIME ------------ 1.653093403624287\n",
      "ARR_DELAY ----------- 1.8997854839420716\n",
      "CANCELLED ----------- 0.0\n",
      "CANCELLATION_CODE --- 98.38379603867556\n",
      "DIVERTED ------------ 0.0\n",
      "CRS_ELAPSED_TIME ---- 0.00013862999736880265\n",
      "ACTUAL_ELAPSED_TIME - 1.8637694106256566\n",
      "AIR_TIME ------------ 1.8637694106256566\n",
      "DISTANCE ------------ 0.0\n",
      "CARRIER_DELAY ------- 81.2473816259247\n",
      "WEATHER_DELAY ------- 81.2473816259247\n",
      "NAS_DELAY ----------- 81.2473816259247\n",
      "SECURITY_DELAY ------ 81.2473816259247\n",
      "LATE_AIRCRAFT_DELAY - 81.2473816259247\n",
      "Unnamed: 27 --------- 100.0\n"
     ]
    }
   ],
   "source": [
    "c=df.count()\n",
    "for i in df.columns:\n",
    "    print(i,(20-len(i))*\"-\",((df.filter(df[i].isNull()).count())/c)*100)"
   ]
  },
  {
   "cell_type": "code",
   "execution_count": 6,
   "metadata": {},
   "outputs": [],
   "source": [
    "df1=df"
   ]
  },
  {
   "cell_type": "code",
   "execution_count": 7,
   "metadata": {},
   "outputs": [
    {
     "name": "stdout",
     "output_type": "stream",
     "text": [
      "+-------------------+----------+-----------------+------+----+------------+--------+---------+--------+----------+---------+-------+------------+--------+---------+---------+--------+----------------+-------------------+--------+--------+\n",
      "|            FL_DATE|OP_CARRIER|OP_CARRIER_FL_NUM|ORIGIN|DEST|CRS_DEP_TIME|DEP_TIME|DEP_DELAY|TAXI_OUT|WHEELS_OFF|WHEELS_ON|TAXI_IN|CRS_ARR_TIME|ARR_TIME|ARR_DELAY|CANCELLED|DIVERTED|CRS_ELAPSED_TIME|ACTUAL_ELAPSED_TIME|AIR_TIME|DISTANCE|\n",
      "+-------------------+----------+-----------------+------+----+------------+--------+---------+--------+----------+---------+-------+------------+--------+---------+---------+--------+----------------+-------------------+--------+--------+\n",
      "|2018-01-01 00:00:00|        UA|             2429|   EWR| DEN|        1517|  1512.0|     -5.0|    15.0|    1527.0|   1712.0|   10.0|        1745|  1722.0|    -23.0|      0.0|     0.0|           268.0|              250.0|   225.0|  1605.0|\n",
      "|2018-01-01 00:00:00|        UA|             2427|   LAS| SFO|        1115|  1107.0|     -8.0|    11.0|    1118.0|   1223.0|    7.0|        1254|  1230.0|    -24.0|      0.0|     0.0|            99.0|               83.0|    65.0|   414.0|\n",
      "|2018-01-01 00:00:00|        UA|             2426|   SNA| DEN|        1335|  1330.0|     -5.0|    15.0|    1345.0|   1631.0|    5.0|        1649|  1636.0|    -13.0|      0.0|     0.0|           134.0|              126.0|   106.0|   846.0|\n",
      "|2018-01-01 00:00:00|        UA|             2425|   RSW| ORD|        1546|  1552.0|      6.0|    19.0|    1611.0|   1748.0|    6.0|        1756|  1754.0|     -2.0|      0.0|     0.0|           190.0|              182.0|   157.0|  1120.0|\n",
      "|2018-01-01 00:00:00|        UA|             2424|   ORD| ALB|         630|   650.0|     20.0|    13.0|     703.0|    926.0|   10.0|         922|   936.0|     14.0|      0.0|     0.0|           112.0|              106.0|    83.0|   723.0|\n",
      "|2018-01-01 00:00:00|        UA|             2422|   ORD| OMA|        2241|  2244.0|      3.0|    15.0|    2259.0|      1.0|    2.0|          14|     3.0|    -11.0|      0.0|     0.0|            93.0|               79.0|    62.0|   416.0|\n",
      "|2018-01-01 00:00:00|        UA|             2421|   IAH| LAS|         750|   747.0|     -3.0|    14.0|     801.0|    854.0|    6.0|         916|   900.0|    -16.0|      0.0|     0.0|           206.0|              193.0|   173.0|  1222.0|\n",
      "|2018-01-01 00:00:00|        UA|             2420|   DEN| CID|        1324|  1318.0|     -6.0|    11.0|    1329.0|   1554.0|    6.0|        1619|  1600.0|    -19.0|      0.0|     0.0|           115.0|              102.0|    85.0|   692.0|\n",
      "|2018-01-01 00:00:00|        UA|             2419|   SMF| EWR|        2224|  2237.0|     13.0|    10.0|    2247.0|    627.0|    9.0|         638|   636.0|     -2.0|      0.0|     0.0|           314.0|              299.0|   280.0|  2500.0|\n",
      "|2018-01-01 00:00:00|        UA|             2418|   RIC| DEN|        1601|  1559.0|     -2.0|    12.0|    1611.0|   1748.0|    8.0|        1813|  1756.0|    -17.0|      0.0|     0.0|           252.0|              237.0|   217.0|  1482.0|\n",
      "|2018-01-01 00:00:00|        UA|             2417|   PDX| EWR|        2240|  2235.0|     -5.0|     9.0|    2244.0|    624.0|    7.0|         647|   631.0|    -16.0|      0.0|     0.0|           307.0|              296.0|   280.0|  2434.0|\n",
      "|2018-01-01 00:00:00|        UA|             2416|   ORD| CLE|        2059|  2300.0|    121.0|    24.0|    2324.0|    112.0|    8.0|        2311|   120.0|    129.0|      0.0|     0.0|            72.0|               80.0|    48.0|   316.0|\n",
      "|2018-01-01 00:00:00|        UA|             2415|   EWR| PDX|         825|   822.0|     -3.0|    15.0|     837.0|   1104.0|    5.0|        1135|  1109.0|    -26.0|      0.0|     0.0|           370.0|              347.0|   327.0|  2434.0|\n",
      "|2018-01-01 00:00:00|        UA|             2414|   EWR| ATL|        1044|  1055.0|     11.0|    11.0|    1106.0|   1310.0|    5.0|        1318|  1315.0|     -3.0|      0.0|     0.0|           154.0|              140.0|   124.0|   746.0|\n",
      "|2018-01-01 00:00:00|        UA|             2413|   ORD| BTV|        2114|  2230.0|     76.0|    14.0|    2244.0|    123.0|    5.0|          15|   128.0|     73.0|      0.0|     0.0|           121.0|              118.0|    99.0|   763.0|\n",
      "|2018-01-01 00:00:00|        UA|             2412|   MCO| LAX|         653|   747.0|     54.0|    14.0|     801.0|   1003.0|   22.0|         930|  1025.0|     55.0|      0.0|     0.0|           337.0|              338.0|   302.0|  2218.0|\n",
      "|2018-01-01 00:00:00|        UA|             2411|   EWR| SMF|        1810|  1922.0|     72.0|    16.0|    1938.0|   2157.0|    4.0|        2136|  2201.0|     25.0|      0.0|     0.0|           386.0|              339.0|   319.0|  2500.0|\n",
      "|2018-01-01 00:00:00|        UA|             2410|   RSW| EWR|        1250|  1337.0|     47.0|    12.0|    1349.0|   1600.0|    6.0|        1537|  1606.0|     29.0|      0.0|     0.0|           167.0|              149.0|   131.0|  1068.0|\n",
      "|2018-01-01 00:00:00|        UA|             2409|   IAH| JAC|         940|   934.0|     -6.0|    18.0|     952.0|   1156.0|    4.0|        1218|  1200.0|    -18.0|      0.0|     0.0|           218.0|              206.0|   184.0|  1265.0|\n",
      "|2018-01-01 00:00:00|        UA|             2408|   TYS| EWR|        1131|  1140.0|      9.0|     9.0|    1149.0|   1307.0|    5.0|        1333|  1312.0|    -21.0|      0.0|     0.0|           122.0|               92.0|    78.0|   631.0|\n",
      "+-------------------+----------+-----------------+------+----+------------+--------+---------+--------+----------+---------+-------+------------+--------+---------+---------+--------+----------------+-------------------+--------+--------+\n",
      "only showing top 20 rows\n",
      "\n"
     ]
    }
   ],
   "source": [
    "c=df.count()\n",
    "for i in df.columns:\n",
    "    if (((df.filter(df[i].isNull()).count())/c)*100)>80:\n",
    "        df=df.drop(i)\n",
    "df.show()    "
   ]
  },
  {
   "cell_type": "code",
   "execution_count": 8,
   "metadata": {},
   "outputs": [
    {
     "name": "stdout",
     "output_type": "stream",
     "text": [
      "FL_DATE ------------- 0.0\n",
      "OP_CARRIER ---------- 0.0\n",
      "OP_CARRIER_FL_NUM --- 0.0\n",
      "ORIGIN -------------- 0.0\n",
      "DEST ---------------- 0.0\n",
      "CRS_DEP_TIME -------- 0.0\n",
      "DEP_TIME ------------ 1.5570505414471807\n",
      "DEP_DELAY ----------- 1.6252149111534209\n",
      "TAXI_OUT ------------ 1.6057512595228411\n",
      "WHEELS_OFF ---------- 1.605737396523104\n",
      "WHEELS_ON ----------- 1.653107266624024\n",
      "TAXI_IN ------------- 1.653107266624024\n",
      "CRS_ARR_TIME -------- 0.0\n",
      "ARR_TIME ------------ 1.653093403624287\n",
      "ARR_DELAY ----------- 1.8997854839420716\n",
      "CANCELLED ----------- 0.0\n",
      "DIVERTED ------------ 0.0\n",
      "CRS_ELAPSED_TIME ---- 0.00013862999736880265\n",
      "ACTUAL_ELAPSED_TIME - 1.8637694106256566\n",
      "AIR_TIME ------------ 1.8637694106256566\n",
      "DISTANCE ------------ 0.0\n"
     ]
    }
   ],
   "source": [
    "c=df.count()\n",
    "for i in df.columns:\n",
    "    print(i,(20-len(i))*\"-\",((df.filter(df[i].isNull()).count())/c)*100)"
   ]
  },
  {
   "cell_type": "code",
   "execution_count": 9,
   "metadata": {},
   "outputs": [],
   "source": [
    "from pyspark.sql.functions import to_date\n",
    "from pyspark.sql.functions import col\n",
    "\n",
    "df=df.withColumn(\"FL_DATE\",to_date(col(\"FL_DATE\"),\"yyyy-MM-dd\"))"
   ]
  },
  {
   "cell_type": "code",
   "execution_count": 10,
   "metadata": {},
   "outputs": [
    {
     "data": {
      "text/plain": [
       "<bound method DataFrame.printSchema of DataFrame[FL_DATE: date, OP_CARRIER: string, OP_CARRIER_FL_NUM: int, ORIGIN: string, DEST: string, CRS_DEP_TIME: int, DEP_TIME: double, DEP_DELAY: double, TAXI_OUT: double, WHEELS_OFF: double, WHEELS_ON: double, TAXI_IN: double, CRS_ARR_TIME: int, ARR_TIME: double, ARR_DELAY: double, CANCELLED: double, DIVERTED: double, CRS_ELAPSED_TIME: double, ACTUAL_ELAPSED_TIME: double, AIR_TIME: double, DISTANCE: double]>"
      ]
     },
     "execution_count": 10,
     "metadata": {},
     "output_type": "execute_result"
    }
   ],
   "source": [
    "df.printSchema"
   ]
  },
  {
   "cell_type": "code",
   "execution_count": 11,
   "metadata": {},
   "outputs": [],
   "source": [
    "from pyspark.sql.types import StringType\n",
    "df = df.withColumn(\"OP_CARRIER_FL_NUM\",df[\"OP_CARRIER_FL_NUM\"].cast(StringType()))"
   ]
  },
  {
   "cell_type": "code",
   "execution_count": 12,
   "metadata": {},
   "outputs": [
    {
     "data": {
      "text/plain": [
       "[('OP_CARRIER_FL_NUM', 'string')]"
      ]
     },
     "execution_count": 12,
     "metadata": {},
     "output_type": "execute_result"
    }
   ],
   "source": [
    "df.select('OP_CARRIER_FL_NUM').dtypes"
   ]
  },
  {
   "cell_type": "code",
   "execution_count": 13,
   "metadata": {},
   "outputs": [
    {
     "name": "stdout",
     "output_type": "stream",
     "text": [
      "+----------+\n",
      "|OP_CARRIER|\n",
      "+----------+\n",
      "|        UA|\n",
      "|        NK|\n",
      "|        AA|\n",
      "|        EV|\n",
      "|        B6|\n",
      "|        DL|\n",
      "|        OO|\n",
      "|        F9|\n",
      "|        YV|\n",
      "|        MQ|\n",
      "|        OH|\n",
      "|        HA|\n",
      "|        G4|\n",
      "|        YX|\n",
      "|        AS|\n",
      "|        VX|\n",
      "|        WN|\n",
      "|        9E|\n",
      "+----------+\n",
      "\n"
     ]
    }
   ],
   "source": [
    "df.select('OP_CARRIER').distinct().show()"
   ]
  },
  {
   "cell_type": "code",
   "execution_count": 14,
   "metadata": {},
   "outputs": [],
   "source": [
    "from pyspark.sql.functions import regexp_replace\n",
    "l={'UA':'United Airlines',\n",
    "    'AS':'Alaska Airlines',\n",
    "    '9E':'Endeavor Air',\n",
    "    'B6':'JetBlue Airways',\n",
    "    'EV':'ExpressJet',\n",
    "    'F9':'Frontier Airlines',\n",
    "    'G4':'Allegiant Air',\n",
    "    'HA':'Hawaiian Airlines',\n",
    "    'MQ':'Envoy Air',\n",
    "    'NK':'Spirit Airlines',\n",
    "    'OH':'PSA Airlines',\n",
    "    'OO':'SkyWest Airlines',\n",
    "    'VX':'Virgin America',\n",
    "    'WN':'Southwest Airlines',\n",
    "    'YV':'Mesa Airline',\n",
    "    'YX':'Republic Airways',\n",
    "    'AA':'American Airlines',\n",
    "    'DL':'Delta Airlines'}\n",
    "l=list(l.items())\n",
    "for i in range(18):\n",
    "    df=df.withColumn('OP_CARRIER', regexp_replace('OP_CARRIER', l[i][0], l[i][1]))\n"
   ]
  },
  {
   "cell_type": "code",
   "execution_count": 15,
   "metadata": {},
   "outputs": [
    {
     "name": "stdout",
     "output_type": "stream",
     "text": [
      "+------------------+\n",
      "|        OP_CARRIER|\n",
      "+------------------+\n",
      "|      Mesa Airline|\n",
      "|     Allegiant Air|\n",
      "|   United Airlines|\n",
      "|    Virgin America|\n",
      "| Hawaiian Airlines|\n",
      "|  Republic Airways|\n",
      "|        ExpressJet|\n",
      "|  SkyWest Airlines|\n",
      "| Frontier Airlines|\n",
      "|      Endeavor Air|\n",
      "| American Airlines|\n",
      "|   JetBlue Airways|\n",
      "|         Envoy Air|\n",
      "|    Delta Airlines|\n",
      "|      PSA Airlines|\n",
      "|   Alaska Airlines|\n",
      "|   Spirit Airlines|\n",
      "|Southwest Airlines|\n",
      "+------------------+\n",
      "\n"
     ]
    }
   ],
   "source": [
    "df.select('OP_CARRIER').distinct().show()"
   ]
  },
  {
   "cell_type": "code",
   "execution_count": 16,
   "metadata": {},
   "outputs": [
    {
     "name": "stdout",
     "output_type": "stream",
     "text": [
      "+--------------+\n",
      "|sum(CANCELLED)|\n",
      "+--------------+\n",
      "|      116584.0|\n",
      "+--------------+\n",
      "\n"
     ]
    }
   ],
   "source": [
    "df.agg({'CANCELLED': 'sum'}).show()"
   ]
  },
  {
   "cell_type": "code",
   "execution_count": 21,
   "metadata": {},
   "outputs": [
    {
     "name": "stdout",
     "output_type": "stream",
     "text": [
      "+---------+\n",
      "|CANCELLED|\n",
      "+---------+\n",
      "|      0.0|\n",
      "|      1.0|\n",
      "+---------+\n",
      "\n"
     ]
    }
   ],
   "source": [
    "df.select('CANCELLED').distinct().show()"
   ]
  },
  {
   "cell_type": "code",
   "execution_count": 17,
   "metadata": {},
   "outputs": [],
   "source": [
    "canceled=df.filter(df['CANCELLED']>0)"
   ]
  },
  {
   "cell_type": "code",
   "execution_count": 18,
   "metadata": {},
   "outputs": [
    {
     "name": "stdout",
     "output_type": "stream",
     "text": [
      "+----------+---------------+-----------------+------+----+------------+--------+---------+--------+----------+---------+-------+------------+--------+---------+---------+--------+----------------+-------------------+--------+--------+\n",
      "|   FL_DATE|     OP_CARRIER|OP_CARRIER_FL_NUM|ORIGIN|DEST|CRS_DEP_TIME|DEP_TIME|DEP_DELAY|TAXI_OUT|WHEELS_OFF|WHEELS_ON|TAXI_IN|CRS_ARR_TIME|ARR_TIME|ARR_DELAY|CANCELLED|DIVERTED|CRS_ELAPSED_TIME|ACTUAL_ELAPSED_TIME|AIR_TIME|DISTANCE|\n",
      "+----------+---------------+-----------------+------+----+------------+--------+---------+--------+----------+---------+-------+------------+--------+---------+---------+--------+----------------+-------------------+--------+--------+\n",
      "|2018-01-01|United Airlines|             2034|   IAH| MFE|        1440|    null|     null|    null|      null|     null|   null|        1601|    null|     null|      1.0|     0.0|            81.0|               null|    null|   316.0|\n",
      "|2018-01-01|United Airlines|              864|   LAS| SFO|        1744|    null|     null|    null|      null|     null|   null|        1926|    null|     null|      1.0|     0.0|           102.0|               null|    null|   414.0|\n",
      "|2018-01-01|United Airlines|              488|   MFE| IAH|        1726|    null|     null|    null|      null|     null|   null|        1844|    null|     null|      1.0|     0.0|            78.0|               null|    null|   316.0|\n",
      "|2018-01-01|Alaska Airlines|                5|   DCA| LAX|         910|    null|     null|    null|      null|     null|   null|        1230|    null|     null|      1.0|     0.0|           380.0|               null|    null|  2311.0|\n",
      "|2018-01-01|Alaska Airlines|               64|   WRG| KTN|        1623|    null|     null|    null|      null|     null|   null|        1655|    null|     null|      1.0|     0.0|            32.0|               null|    null|    82.0|\n",
      "|2018-01-01|Alaska Airlines|               65|   WRG| PSG|        1056|    null|     null|    null|      null|     null|   null|        1119|    null|     null|      1.0|     0.0|            23.0|               null|    null|    31.0|\n",
      "|2018-01-01|Alaska Airlines|               65|   PSG| JNU|        1204|    null|     null|    null|      null|     null|   null|        1249|    null|     null|      1.0|     0.0|            45.0|               null|    null|   123.0|\n",
      "|2018-01-01|Alaska Airlines|               73|   SIT| JNU|         600|    null|     null|    null|      null|     null|   null|         641|    null|     null|      1.0|     0.0|            41.0|               null|    null|    95.0|\n",
      "|2018-01-01|Alaska Airlines|              162|   FAI| ANC|         545|    null|     null|    null|      null|     null|   null|         652|    null|     null|      1.0|     0.0|            67.0|               null|    null|   261.0|\n",
      "|2018-01-01|Alaska Airlines|              313|   SFO| SEA|         500|    null|     null|    null|      null|     null|   null|         716|    null|     null|      1.0|     0.0|           136.0|               null|    null|   679.0|\n",
      "|2018-01-01|     ExpressJet|             2853|   SAF| DFW|         650|    null|     null|    null|      null|     null|   null|         946|    null|     null|      1.0|     0.0|           116.0|               null|    null|   551.0|\n",
      "|2018-01-01|     ExpressJet|             2857|   ROW| DFW|         700|    null|     null|    null|      null|     null|   null|         935|    null|     null|      1.0|     0.0|            95.0|               null|    null|   435.0|\n",
      "|2018-01-01|     ExpressJet|             2864|   COU| DFW|         545|    null|     null|    null|      null|     null|   null|         742|    null|     null|      1.0|     0.0|           117.0|               null|    null|   489.0|\n",
      "|2018-01-01|     ExpressJet|             2872|   DFW| GRK|         904|    null|     null|    null|      null|     null|   null|        1005|    null|     null|      1.0|     0.0|            61.0|               null|    null|   134.0|\n",
      "|2018-01-01|     ExpressJet|             2872|   GRK| DFW|        1035|    null|     null|    null|      null|     null|   null|        1135|    null|     null|      1.0|     0.0|            60.0|               null|    null|   134.0|\n",
      "|2018-01-01|     ExpressJet|             4004|   DCA| CLE|         645|    null|     null|    null|      null|     null|   null|         815|    null|     null|      1.0|     0.0|            90.0|               null|    null|   310.0|\n",
      "|2018-01-01|     ExpressJet|             4101|   IAH| BRO|        1005|    null|     null|    null|      null|     null|   null|        1130|    null|     null|      1.0|     0.0|            85.0|               null|    null|   308.0|\n",
      "|2018-01-01|     ExpressJet|             5456|   MSP| RIC|        1530|    null|     null|    null|      null|     null|   null|        1912|    null|     null|      1.0|     0.0|           162.0|               null|    null|   970.0|\n",
      "|2018-01-01|     ExpressJet|             4197|   IAH| LRD|        1005|    null|     null|    null|      null|     null|   null|        1133|    null|     null|      1.0|     0.0|            88.0|               null|    null|   301.0|\n",
      "|2018-01-01|     ExpressJet|             4217|   BRO| IAH|        1200|    null|     null|    null|      null|     null|   null|        1319|    null|     null|      1.0|     0.0|            79.0|               null|    null|   308.0|\n",
      "+----------+---------------+-----------------+------+----+------------+--------+---------+--------+----------+---------+-------+------------+--------+---------+---------+--------+----------------+-------------------+--------+--------+\n",
      "only showing top 20 rows\n",
      "\n"
     ]
    }
   ],
   "source": [
    "canceled.show()"
   ]
  },
  {
   "cell_type": "code",
   "execution_count": 20,
   "metadata": {},
   "outputs": [
    {
     "name": "stdout",
     "output_type": "stream",
     "text": [
      "+----------+---------------+-----------------+------+----+------------+--------+---------+--------+----------+---------+-------+------------+--------+---------+---------+--------+----------------+-------------------+--------+--------+\n",
      "|   FL_DATE|     OP_CARRIER|OP_CARRIER_FL_NUM|ORIGIN|DEST|CRS_DEP_TIME|DEP_TIME|DEP_DELAY|TAXI_OUT|WHEELS_OFF|WHEELS_ON|TAXI_IN|CRS_ARR_TIME|ARR_TIME|ARR_DELAY|CANCELLED|DIVERTED|CRS_ELAPSED_TIME|ACTUAL_ELAPSED_TIME|AIR_TIME|DISTANCE|\n",
      "+----------+---------------+-----------------+------+----+------------+--------+---------+--------+----------+---------+-------+------------+--------+---------+---------+--------+----------------+-------------------+--------+--------+\n",
      "|2018-01-01|United Airlines|             2424|   ORD| ALB|         630|   650.0|     20.0|    13.0|     703.0|    926.0|   10.0|         922|   936.0|     14.0|      0.0|     0.0|           112.0|              106.0|    83.0|   723.0|\n",
      "|2018-01-01|United Airlines|             2416|   ORD| CLE|        2059|  2300.0|    121.0|    24.0|    2324.0|    112.0|    8.0|        2311|   120.0|    129.0|      0.0|     0.0|            72.0|               80.0|    48.0|   316.0|\n",
      "|2018-01-01|United Airlines|             2413|   ORD| BTV|        2114|  2230.0|     76.0|    14.0|    2244.0|    123.0|    5.0|          15|   128.0|     73.0|      0.0|     0.0|           121.0|              118.0|    99.0|   763.0|\n",
      "|2018-01-01|United Airlines|             2412|   MCO| LAX|         653|   747.0|     54.0|    14.0|     801.0|   1003.0|   22.0|         930|  1025.0|     55.0|      0.0|     0.0|           337.0|              338.0|   302.0|  2218.0|\n",
      "|2018-01-01|United Airlines|             2411|   EWR| SMF|        1810|  1922.0|     72.0|    16.0|    1938.0|   2157.0|    4.0|        2136|  2201.0|     25.0|      0.0|     0.0|           386.0|              339.0|   319.0|  2500.0|\n",
      "|2018-01-01|United Airlines|             2410|   RSW| EWR|        1250|  1337.0|     47.0|    12.0|    1349.0|   1600.0|    6.0|        1537|  1606.0|     29.0|      0.0|     0.0|           167.0|              149.0|   131.0|  1068.0|\n",
      "|2018-01-01|United Airlines|             2406|   EWR| TYS|         830|   844.0|     14.0|    20.0|     904.0|   1052.0|    3.0|        1049|  1055.0|      6.0|      0.0|     0.0|           139.0|              131.0|   108.0|   631.0|\n",
      "|2018-01-01|United Airlines|             2402|   JAC| EWR|        1343|  1351.0|      8.0|    38.0|    1429.0|   2003.0|   10.0|        1959|  2013.0|     14.0|      0.0|     0.0|           256.0|              262.0|   214.0|  1874.0|\n",
      "|2018-01-01|United Airlines|             2398|   MSY| EWR|        2043|  2131.0|     48.0|    10.0|    2141.0|     54.0|    7.0|          34|   101.0|     27.0|      0.0|     0.0|           171.0|              150.0|   133.0|  1167.0|\n",
      "|2018-01-01|United Airlines|             2384|   EWR| FLL|        1627|  1624.0|     -3.0|    38.0|    1702.0|   1938.0|    6.0|        1938|  1944.0|      6.0|      0.0|     0.0|           191.0|              200.0|   156.0|  1065.0|\n",
      "|2018-01-01|United Airlines|             2160|   ORD| MCI|        2030|  2111.0|     41.0|    21.0|    2132.0|   2230.0|    5.0|        2209|  2235.0|     26.0|      0.0|     0.0|            99.0|               84.0|    58.0|   403.0|\n",
      "|2018-01-01|United Airlines|             2155|   IND| ORD|        1822|  1956.0|     94.0|     9.0|    2005.0|   1947.0|    3.0|        1835|  1950.0|     75.0|      0.0|     0.0|            73.0|               54.0|    42.0|   177.0|\n",
      "|2018-01-01|United Airlines|             2154|   IAD| FLL|        1729|  1745.0|     16.0|    20.0|    1805.0|   2014.0|    6.0|        2009|  2020.0|     11.0|      0.0|     0.0|           160.0|              155.0|   129.0|   901.0|\n",
      "|2018-01-01|United Airlines|             2153|   EWR| BTV|        2145|  2359.0|    134.0|    12.0|      11.0|    102.0|    4.0|        2302|   106.0|    124.0|      0.0|     0.0|            77.0|               67.0|    51.0|   266.0|\n",
      "|2018-01-01|United Airlines|             2150|   LAX| SAN|         602|  1101.0|    299.0|    19.0|    1120.0|   1149.0|    3.0|         701|  1152.0|    291.0|      0.0|     0.0|            59.0|               51.0|    29.0|   109.0|\n",
      "|2018-01-01|United Airlines|             2148|   SAN| EWR|        2100|  2111.0|     11.0|    13.0|    2124.0|    453.0|    7.0|         459|   500.0|      1.0|      0.0|     0.0|           299.0|              289.0|   269.0|  2425.0|\n",
      "|2018-01-01|United Airlines|             2147|   EWR| ORD|        1646|  1658.0|     12.0|    17.0|    1715.0|   1811.0|   25.0|        1827|  1836.0|      9.0|      0.0|     0.0|           161.0|              158.0|   116.0|   719.0|\n",
      "|2018-01-01|United Airlines|             2145|   BDL| EWR|         600|   621.0|     21.0|    14.0|     635.0|    717.0|    4.0|         717|   721.0|      4.0|      0.0|     0.0|            77.0|               60.0|    42.0|   116.0|\n",
      "|2018-01-01|United Airlines|             2143|   SFO| SAN|         835|   830.0|     -5.0|    51.0|     921.0|   1032.0|    3.0|        1007|  1035.0|     28.0|      0.0|     0.0|            92.0|              125.0|    71.0|   447.0|\n",
      "|2018-01-01|United Airlines|             2137|   DEN| BZN|        2228|  2227.0|     -1.0|    33.0|    2300.0|     19.0|    6.0|          16|    25.0|      9.0|      0.0|     0.0|           108.0|              118.0|    79.0|   524.0|\n",
      "+----------+---------------+-----------------+------+----+------------+--------+---------+--------+----------+---------+-------+------------+--------+---------+---------+--------+----------------+-------------------+--------+--------+\n",
      "only showing top 20 rows\n",
      "\n"
     ]
    }
   ],
   "source": [
    "df_new=df.filter(df['ARR_DELAY']>0)\n",
    "df_new.show() #df_new contains delayed flights only"
   ]
  },
  {
   "cell_type": "code",
   "execution_count": 21,
   "metadata": {},
   "outputs": [],
   "source": [
    "df=df.withColumn('ARR_DELAY',col('ARR_DELAY')/60)\n",
    "df=df.withColumn('DEP_DELAY',col('DEP_DELAY')/60)"
   ]
  },
  {
   "cell_type": "code",
   "execution_count": 22,
   "metadata": {},
   "outputs": [],
   "source": [
    "from pyspark.sql.functions import year\n",
    "from pyspark.sql.functions import month\n",
    "from pyspark.sql.functions import dayofweek\n",
    "df_new=df_new.withColumn('FL_YEAR',year(df_new.FL_DATE))\n",
    "df_new=df_new.withColumn('FL_MONTH',month(df_new.FL_DATE))\n",
    "df_new=df_new.withColumn('FL_DAYOFWEEK',dayofweek(df_new.FL_DATE))"
   ]
  },
  {
   "cell_type": "code",
   "execution_count": 23,
   "metadata": {},
   "outputs": [],
   "source": [
    "bd1 = df.withColumn('Delayed', (df.ARR_DELAY >=15).cast('int'))"
   ]
  },
  {
   "cell_type": "code",
   "execution_count": 24,
   "metadata": {},
   "outputs": [
    {
     "name": "stdout",
     "output_type": "stream",
     "text": [
      "+-------+\n",
      "|Delayed|\n",
      "+-------+\n",
      "|   null|\n",
      "|      1|\n",
      "|      0|\n",
      "+-------+\n",
      "\n"
     ]
    }
   ],
   "source": [
    "bd1.select('Delayed').distinct().show()"
   ]
  },
  {
   "cell_type": "code",
   "execution_count": 25,
   "metadata": {},
   "outputs": [],
   "source": [
    "bd1.createOrReplaceTempView(\"bd1\")\n",
    "\n",
    "bd1 = spark.sql(\"select *, case \\\n",
    "               when DEP_TIME <= 800 then 1 \\\n",
    "               when 800 < DEP_TIME and DEP_TIME <= 1200 then 2 \\\n",
    "               when 1200 < DEP_TIME and DEP_TIME <= 1600 then 3 \\\n",
    "               when 1600 < DEP_TIME and DEP_TIME <= 2100 then 4 \\\n",
    "               else 1 end as TimeSlot \\\n",
    "               from bd1\")"
   ]
  },
  {
   "cell_type": "code",
   "execution_count": 26,
   "metadata": {},
   "outputs": [
    {
     "name": "stdout",
     "output_type": "stream",
     "text": [
      "+------------------+-------------+-------+\n",
      "|        OP_CARRIER|INDEX_CARRIER|  count|\n",
      "+------------------+-------------+-------+\n",
      "|Southwest Airlines|          0.0|1352552|\n",
      "|    Delta Airlines|          1.0| 949283|\n",
      "| American Airlines|          2.0| 916818|\n",
      "|  SkyWest Airlines|          3.0| 774137|\n",
      "|   United Airlines|          4.0| 621565|\n",
      "|  Republic Airways|          5.0| 316090|\n",
      "|   JetBlue Airways|          6.0| 305010|\n",
      "|         Envoy Air|          7.0| 296001|\n",
      "|      PSA Airlines|          8.0| 278457|\n",
      "|      Endeavor Air|          9.0| 245917|\n",
      "|   Alaska Airlines|         10.0| 245761|\n",
      "|      Mesa Airline|         11.0| 215138|\n",
      "|        ExpressJet|         12.0| 202890|\n",
      "|   Spirit Airlines|         13.0| 176178|\n",
      "| Frontier Airlines|         14.0| 120035|\n",
      "|     Allegiant Air|         15.0|  96221|\n",
      "| Hawaiian Airlines|         16.0|  83723|\n",
      "|    Virgin America|         17.0|  17670|\n",
      "+------------------+-------------+-------+\n",
      "\n"
     ]
    }
   ],
   "source": [
    "from pyspark.ml.feature import StringIndexer\n",
    "\n",
    "\n",
    "indexer1 = StringIndexer(inputCol='OP_CARRIER',outputCol='INDEX_CARRIER') \n",
    "bd2=indexer1.fit(bd1).transform(bd1)\n",
    "\n",
    "indexer2 = StringIndexer(inputCol='ORIGIN',outputCol='INDEX_ORIGIN') \n",
    "bd3=indexer2.fit(bd2).transform(bd2)\n",
    "\n",
    "bd3.groupBy('OP_CARRIER','INDEX_CARRIER').count().sort('INDEX_CARRIER').show()"
   ]
  },
  {
   "cell_type": "code",
   "execution_count": 28,
   "metadata": {},
   "outputs": [
    {
     "ename": "AnalysisException",
     "evalue": "Cannot resolve column name \"FL_DAYOFWEEK\" among (FL_DATE, OP_CARRIER, OP_CARRIER_FL_NUM, ORIGIN, DEST, CRS_DEP_TIME, DEP_TIME, DEP_DELAY, TAXI_OUT, WHEELS_OFF, WHEELS_ON, TAXI_IN, CRS_ARR_TIME, ARR_TIME, ARR_DELAY, CANCELLED, DIVERTED, CRS_ELAPSED_TIME, ACTUAL_ELAPSED_TIME, AIR_TIME, DISTANCE)",
     "output_type": "error",
     "traceback": [
      "\u001b[1;31m---------------------------------------------------------------------------\u001b[0m",
      "\u001b[1;31mAnalysisException\u001b[0m                         Traceback (most recent call last)",
      "\u001b[1;32mc:\\Users\\amitv\\Downloads\\IQs\\Final-project-pyspark.ipynb Cell 30\u001b[0m in \u001b[0;36m<cell line: 3>\u001b[1;34m()\u001b[0m\n\u001b[0;32m      <a href='vscode-notebook-cell:/c%3A/Users/amitv/Downloads/IQs/Final-project-pyspark.ipynb#X41sZmlsZQ%3D%3D?line=0'>1</a>\u001b[0m \u001b[39mfrom\u001b[39;00m \u001b[39mpyspark\u001b[39;00m\u001b[39m.\u001b[39;00m\u001b[39msql\u001b[39;00m\u001b[39m.\u001b[39;00m\u001b[39mfunctions\u001b[39;00m \u001b[39mimport\u001b[39;00m \u001b[39m*\u001b[39m\n\u001b[1;32m----> <a href='vscode-notebook-cell:/c%3A/Users/amitv/Downloads/IQs/Final-project-pyspark.ipynb#X41sZmlsZQ%3D%3D?line=2'>3</a>\u001b[0m df\u001b[39m.\u001b[39;49mstat\u001b[39m.\u001b[39;49mcorr(\u001b[39m'\u001b[39;49m\u001b[39mFL_DAYOFWEEK\u001b[39;49m\u001b[39m'\u001b[39;49m,\u001b[39m'\u001b[39;49m\u001b[39mARR_DELAY\u001b[39;49m\u001b[39m'\u001b[39;49m)\n",
      "File \u001b[1;32mC:\\Amit\\spark-3.3.0-bin-hadoop3\\python\\pyspark\\sql\\dataframe.py:3506\u001b[0m, in \u001b[0;36mDataFrameStatFunctions.corr\u001b[1;34m(self, col1, col2, method)\u001b[0m\n\u001b[0;32m   3505\u001b[0m \u001b[39mdef\u001b[39;00m \u001b[39mcorr\u001b[39m(\u001b[39mself\u001b[39m, col1: \u001b[39mstr\u001b[39m, col2: \u001b[39mstr\u001b[39m, method: Optional[\u001b[39mstr\u001b[39m] \u001b[39m=\u001b[39m \u001b[39mNone\u001b[39;00m) \u001b[39m-\u001b[39m\u001b[39m>\u001b[39m \u001b[39mfloat\u001b[39m:\n\u001b[1;32m-> 3506\u001b[0m     \u001b[39mreturn\u001b[39;00m \u001b[39mself\u001b[39;49m\u001b[39m.\u001b[39;49mdf\u001b[39m.\u001b[39;49mcorr(col1, col2, method)\n",
      "File \u001b[1;32mC:\\Amit\\spark-3.3.0-bin-hadoop3\\python\\pyspark\\sql\\dataframe.py:2883\u001b[0m, in \u001b[0;36mDataFrame.corr\u001b[1;34m(self, col1, col2, method)\u001b[0m\n\u001b[0;32m   2878\u001b[0m \u001b[39mif\u001b[39;00m \u001b[39mnot\u001b[39;00m method \u001b[39m==\u001b[39m \u001b[39m\"\u001b[39m\u001b[39mpearson\u001b[39m\u001b[39m\"\u001b[39m:\n\u001b[0;32m   2879\u001b[0m     \u001b[39mraise\u001b[39;00m \u001b[39mValueError\u001b[39;00m(\n\u001b[0;32m   2880\u001b[0m         \u001b[39m\"\u001b[39m\u001b[39mCurrently only the calculation of the Pearson Correlation \u001b[39m\u001b[39m\"\u001b[39m\n\u001b[0;32m   2881\u001b[0m         \u001b[39m+\u001b[39m \u001b[39m\"\u001b[39m\u001b[39mcoefficient is supported.\u001b[39m\u001b[39m\"\u001b[39m\n\u001b[0;32m   2882\u001b[0m     )\n\u001b[1;32m-> 2883\u001b[0m \u001b[39mreturn\u001b[39;00m \u001b[39mself\u001b[39;49m\u001b[39m.\u001b[39;49m_jdf\u001b[39m.\u001b[39;49mstat()\u001b[39m.\u001b[39;49mcorr(col1, col2, method)\n",
      "File \u001b[1;32mC:\\Amit\\spark-3.3.0-bin-hadoop3\\python\\lib\\py4j-0.10.9.5-src.zip\\py4j\\java_gateway.py:1321\u001b[0m, in \u001b[0;36mJavaMember.__call__\u001b[1;34m(self, *args)\u001b[0m\n\u001b[0;32m   1315\u001b[0m command \u001b[39m=\u001b[39m proto\u001b[39m.\u001b[39mCALL_COMMAND_NAME \u001b[39m+\u001b[39m\\\n\u001b[0;32m   1316\u001b[0m     \u001b[39mself\u001b[39m\u001b[39m.\u001b[39mcommand_header \u001b[39m+\u001b[39m\\\n\u001b[0;32m   1317\u001b[0m     args_command \u001b[39m+\u001b[39m\\\n\u001b[0;32m   1318\u001b[0m     proto\u001b[39m.\u001b[39mEND_COMMAND_PART\n\u001b[0;32m   1320\u001b[0m answer \u001b[39m=\u001b[39m \u001b[39mself\u001b[39m\u001b[39m.\u001b[39mgateway_client\u001b[39m.\u001b[39msend_command(command)\n\u001b[1;32m-> 1321\u001b[0m return_value \u001b[39m=\u001b[39m get_return_value(\n\u001b[0;32m   1322\u001b[0m     answer, \u001b[39mself\u001b[39;49m\u001b[39m.\u001b[39;49mgateway_client, \u001b[39mself\u001b[39;49m\u001b[39m.\u001b[39;49mtarget_id, \u001b[39mself\u001b[39;49m\u001b[39m.\u001b[39;49mname)\n\u001b[0;32m   1324\u001b[0m \u001b[39mfor\u001b[39;00m temp_arg \u001b[39min\u001b[39;00m temp_args:\n\u001b[0;32m   1325\u001b[0m     temp_arg\u001b[39m.\u001b[39m_detach()\n",
      "File \u001b[1;32mC:\\Amit\\spark-3.3.0-bin-hadoop3\\python\\pyspark\\sql\\utils.py:196\u001b[0m, in \u001b[0;36mcapture_sql_exception.<locals>.deco\u001b[1;34m(*a, **kw)\u001b[0m\n\u001b[0;32m    192\u001b[0m converted \u001b[39m=\u001b[39m convert_exception(e\u001b[39m.\u001b[39mjava_exception)\n\u001b[0;32m    193\u001b[0m \u001b[39mif\u001b[39;00m \u001b[39mnot\u001b[39;00m \u001b[39misinstance\u001b[39m(converted, UnknownException):\n\u001b[0;32m    194\u001b[0m     \u001b[39m# Hide where the exception came from that shows a non-Pythonic\u001b[39;00m\n\u001b[0;32m    195\u001b[0m     \u001b[39m# JVM exception message.\u001b[39;00m\n\u001b[1;32m--> 196\u001b[0m     \u001b[39mraise\u001b[39;00m converted \u001b[39mfrom\u001b[39;00m \u001b[39mNone\u001b[39m\n\u001b[0;32m    197\u001b[0m \u001b[39melse\u001b[39;00m:\n\u001b[0;32m    198\u001b[0m     \u001b[39mraise\u001b[39;00m\n",
      "\u001b[1;31mAnalysisException\u001b[0m: Cannot resolve column name \"FL_DAYOFWEEK\" among (FL_DATE, OP_CARRIER, OP_CARRIER_FL_NUM, ORIGIN, DEST, CRS_DEP_TIME, DEP_TIME, DEP_DELAY, TAXI_OUT, WHEELS_OFF, WHEELS_ON, TAXI_IN, CRS_ARR_TIME, ARR_TIME, ARR_DELAY, CANCELLED, DIVERTED, CRS_ELAPSED_TIME, ACTUAL_ELAPSED_TIME, AIR_TIME, DISTANCE)"
     ]
    }
   ],
   "source": [
    "from pyspark.sql.functions import *\n",
    "\n",
    "df.stat.corr('FL_DAYOFWEEK','ARR_DELAY')"
   ]
  },
  {
   "cell_type": "code",
   "execution_count": 29,
   "metadata": {},
   "outputs": [
    {
     "ename": "AnalysisException",
     "evalue": "Column 'FL_DAYOFWEEK' does not exist. Did you mean one of the following? [bd1.FL_DATE, bd1.AIR_TIME, bd1.ARR_DELAY, bd1.ARR_TIME, bd1.CANCELLED, bd1.DEP_TIME, bd1.DEST, bd1.DISTANCE, bd1.DIVERTED, INDEX_ORIGIN, bd1.ORIGIN, bd1.DEP_DELAY, bd1.Delayed, INDEX_CARRIER, bd1.TAXI_IN, bd1.TAXI_OUT, TimeSlot, bd1.OP_CARRIER, bd1.WHEELS_ON, bd1.CRS_DEP_TIME, bd1.WHEELS_OFF, bd1.CRS_ARR_TIME, bd1.CRS_ELAPSED_TIME, bd1.OP_CARRIER_FL_NUM, bd1.ACTUAL_ELAPSED_TIME];\n'Project [DEP_DELAY#3836, DISTANCE#38, 'FL_DAYOFWEEK, INDEX_CARRIER#4043, TimeSlot#3960, Delayed#3930, 'FL_MONTH, ACTUAL_ELAPSED_TIME#36, INDEX_ORIGIN#4129]\n+- Project [FL_DATE#3007, OP_CARRIER#3433, OP_CARRIER_FL_NUM#3029, ORIGIN#20, DEST#21, CRS_DEP_TIME#22, DEP_TIME#23, DEP_DELAY#3836, TAXI_OUT#25, WHEELS_OFF#26, WHEELS_ON#27, TAXI_IN#28, CRS_ARR_TIME#29, ARR_TIME#30, ARR_DELAY#3814, CANCELLED#32, DIVERTED#34, CRS_ELAPSED_TIME#35, ACTUAL_ELAPSED_TIME#36, AIR_TIME#37, DISTANCE#38, Delayed#3930, TimeSlot#3960, INDEX_CARRIER#4043, UDF(cast(ORIGIN#20 as string)) AS INDEX_ORIGIN#4129]\n   +- Project [FL_DATE#3007, OP_CARRIER#3433, OP_CARRIER_FL_NUM#3029, ORIGIN#20, DEST#21, CRS_DEP_TIME#22, DEP_TIME#23, DEP_DELAY#3836, TAXI_OUT#25, WHEELS_OFF#26, WHEELS_ON#27, TAXI_IN#28, CRS_ARR_TIME#29, ARR_TIME#30, ARR_DELAY#3814, CANCELLED#32, DIVERTED#34, CRS_ELAPSED_TIME#35, ACTUAL_ELAPSED_TIME#36, AIR_TIME#37, DISTANCE#38, Delayed#3930, TimeSlot#3960, UDF(cast(OP_CARRIER#3433 as string)) AS INDEX_CARRIER#4043]\n      +- Project [FL_DATE#3007, OP_CARRIER#3433, OP_CARRIER_FL_NUM#3029, ORIGIN#20, DEST#21, CRS_DEP_TIME#22, DEP_TIME#23, DEP_DELAY#3836, TAXI_OUT#25, WHEELS_OFF#26, WHEELS_ON#27, TAXI_IN#28, CRS_ARR_TIME#29, ARR_TIME#30, ARR_DELAY#3814, CANCELLED#32, DIVERTED#34, CRS_ELAPSED_TIME#35, ACTUAL_ELAPSED_TIME#36, AIR_TIME#37, DISTANCE#38, Delayed#3930, CASE WHEN (DEP_TIME#23 <= cast(800 as double)) THEN 1 WHEN ((cast(800 as double) < DEP_TIME#23) AND (DEP_TIME#23 <= cast(1200 as double))) THEN 2 WHEN ((cast(1200 as double) < DEP_TIME#23) AND (DEP_TIME#23 <= cast(1600 as double))) THEN 3 WHEN ((cast(1600 as double) < DEP_TIME#23) AND (DEP_TIME#23 <= cast(2100 as double))) THEN 4 ELSE 1 END AS TimeSlot#3960]\n         +- SubqueryAlias bd1\n            +- View (`bd1`, [FL_DATE#3007,OP_CARRIER#3433,OP_CARRIER_FL_NUM#3029,ORIGIN#20,DEST#21,CRS_DEP_TIME#22,DEP_TIME#23,DEP_DELAY#3836,TAXI_OUT#25,WHEELS_OFF#26,WHEELS_ON#27,TAXI_IN#28,CRS_ARR_TIME#29,ARR_TIME#30,ARR_DELAY#3814,CANCELLED#32,DIVERTED#34,CRS_ELAPSED_TIME#35,ACTUAL_ELAPSED_TIME#36,AIR_TIME#37,DISTANCE#38,Delayed#3930])\n               +- Project [FL_DATE#3007, OP_CARRIER#3433, OP_CARRIER_FL_NUM#3029, ORIGIN#20, DEST#21, CRS_DEP_TIME#22, DEP_TIME#23, DEP_DELAY#3836, TAXI_OUT#25, WHEELS_OFF#26, WHEELS_ON#27, TAXI_IN#28, CRS_ARR_TIME#29, ARR_TIME#30, ARR_DELAY#3814, CANCELLED#32, DIVERTED#34, CRS_ELAPSED_TIME#35, ACTUAL_ELAPSED_TIME#36, AIR_TIME#37, DISTANCE#38, cast((ARR_DELAY#3814 >= cast(15 as double)) as int) AS Delayed#3930]\n                  +- Project [FL_DATE#3007, OP_CARRIER#3433, OP_CARRIER_FL_NUM#3029, ORIGIN#20, DEST#21, CRS_DEP_TIME#22, DEP_TIME#23, (DEP_DELAY#24 / cast(60 as double)) AS DEP_DELAY#3836, TAXI_OUT#25, WHEELS_OFF#26, WHEELS_ON#27, TAXI_IN#28, CRS_ARR_TIME#29, ARR_TIME#30, ARR_DELAY#3814, CANCELLED#32, DIVERTED#34, CRS_ELAPSED_TIME#35, ACTUAL_ELAPSED_TIME#36, AIR_TIME#37, DISTANCE#38]\n                     +- Project [FL_DATE#3007, OP_CARRIER#3433, OP_CARRIER_FL_NUM#3029, ORIGIN#20, DEST#21, CRS_DEP_TIME#22, DEP_TIME#23, DEP_DELAY#24, TAXI_OUT#25, WHEELS_OFF#26, WHEELS_ON#27, TAXI_IN#28, CRS_ARR_TIME#29, ARR_TIME#30, (ARR_DELAY#31 / cast(60 as double)) AS ARR_DELAY#3814, CANCELLED#32, DIVERTED#34, CRS_ELAPSED_TIME#35, ACTUAL_ELAPSED_TIME#36, AIR_TIME#37, DISTANCE#38]\n                        +- Project [FL_DATE#3007, regexp_replace(OP_CARRIER#3411, DL, Delta Airlines, 1) AS OP_CARRIER#3433, OP_CARRIER_FL_NUM#3029, ORIGIN#20, DEST#21, CRS_DEP_TIME#22, DEP_TIME#23, DEP_DELAY#24, TAXI_OUT#25, WHEELS_OFF#26, WHEELS_ON#27, TAXI_IN#28, CRS_ARR_TIME#29, ARR_TIME#30, ARR_DELAY#31, CANCELLED#32, DIVERTED#34, CRS_ELAPSED_TIME#35, ACTUAL_ELAPSED_TIME#36, AIR_TIME#37, DISTANCE#38]\n                           +- Project [FL_DATE#3007, regexp_replace(OP_CARRIER#3389, AA, American Airlines, 1) AS OP_CARRIER#3411, OP_CARRIER_FL_NUM#3029, ORIGIN#20, DEST#21, CRS_DEP_TIME#22, DEP_TIME#23, DEP_DELAY#24, TAXI_OUT#25, WHEELS_OFF#26, WHEELS_ON#27, TAXI_IN#28, CRS_ARR_TIME#29, ARR_TIME#30, ARR_DELAY#31, CANCELLED#32, DIVERTED#34, CRS_ELAPSED_TIME#35, ACTUAL_ELAPSED_TIME#36, AIR_TIME#37, DISTANCE#38]\n                              +- Project [FL_DATE#3007, regexp_replace(OP_CARRIER#3367, YX, Republic Airways, 1) AS OP_CARRIER#3389, OP_CARRIER_FL_NUM#3029, ORIGIN#20, DEST#21, CRS_DEP_TIME#22, DEP_TIME#23, DEP_DELAY#24, TAXI_OUT#25, WHEELS_OFF#26, WHEELS_ON#27, TAXI_IN#28, CRS_ARR_TIME#29, ARR_TIME#30, ARR_DELAY#31, CANCELLED#32, DIVERTED#34, CRS_ELAPSED_TIME#35, ACTUAL_ELAPSED_TIME#36, AIR_TIME#37, DISTANCE#38]\n                                 +- Project [FL_DATE#3007, regexp_replace(OP_CARRIER#3345, YV, Mesa Airline, 1) AS OP_CARRIER#3367, OP_CARRIER_FL_NUM#3029, ORIGIN#20, DEST#21, CRS_DEP_TIME#22, DEP_TIME#23, DEP_DELAY#24, TAXI_OUT#25, WHEELS_OFF#26, WHEELS_ON#27, TAXI_IN#28, CRS_ARR_TIME#29, ARR_TIME#30, ARR_DELAY#31, CANCELLED#32, DIVERTED#34, CRS_ELAPSED_TIME#35, ACTUAL_ELAPSED_TIME#36, AIR_TIME#37, DISTANCE#38]\n                                    +- Project [FL_DATE#3007, regexp_replace(OP_CARRIER#3323, WN, Southwest Airlines, 1) AS OP_CARRIER#3345, OP_CARRIER_FL_NUM#3029, ORIGIN#20, DEST#21, CRS_DEP_TIME#22, DEP_TIME#23, DEP_DELAY#24, TAXI_OUT#25, WHEELS_OFF#26, WHEELS_ON#27, TAXI_IN#28, CRS_ARR_TIME#29, ARR_TIME#30, ARR_DELAY#31, CANCELLED#32, DIVERTED#34, CRS_ELAPSED_TIME#35, ACTUAL_ELAPSED_TIME#36, AIR_TIME#37, DISTANCE#38]\n                                       +- Project [FL_DATE#3007, regexp_replace(OP_CARRIER#3301, VX, Virgin America, 1) AS OP_CARRIER#3323, OP_CARRIER_FL_NUM#3029, ORIGIN#20, DEST#21, CRS_DEP_TIME#22, DEP_TIME#23, DEP_DELAY#24, TAXI_OUT#25, WHEELS_OFF#26, WHEELS_ON#27, TAXI_IN#28, CRS_ARR_TIME#29, ARR_TIME#30, ARR_DELAY#31, CANCELLED#32, DIVERTED#34, CRS_ELAPSED_TIME#35, ACTUAL_ELAPSED_TIME#36, AIR_TIME#37, DISTANCE#38]\n                                          +- Project [FL_DATE#3007, regexp_replace(OP_CARRIER#3279, OO, SkyWest Airlines, 1) AS OP_CARRIER#3301, OP_CARRIER_FL_NUM#3029, ORIGIN#20, DEST#21, CRS_DEP_TIME#22, DEP_TIME#23, DEP_DELAY#24, TAXI_OUT#25, WHEELS_OFF#26, WHEELS_ON#27, TAXI_IN#28, CRS_ARR_TIME#29, ARR_TIME#30, ARR_DELAY#31, CANCELLED#32, DIVERTED#34, CRS_ELAPSED_TIME#35, ACTUAL_ELAPSED_TIME#36, AIR_TIME#37, DISTANCE#38]\n                                             +- Project [FL_DATE#3007, regexp_replace(OP_CARRIER#3257, OH, PSA Airlines, 1) AS OP_CARRIER#3279, OP_CARRIER_FL_NUM#3029, ORIGIN#20, DEST#21, CRS_DEP_TIME#22, DEP_TIME#23, DEP_DELAY#24, TAXI_OUT#25, WHEELS_OFF#26, WHEELS_ON#27, TAXI_IN#28, CRS_ARR_TIME#29, ARR_TIME#30, ARR_DELAY#31, CANCELLED#32, DIVERTED#34, CRS_ELAPSED_TIME#35, ACTUAL_ELAPSED_TIME#36, AIR_TIME#37, DISTANCE#38]\n                                                +- Project [FL_DATE#3007, regexp_replace(OP_CARRIER#3235, NK, Spirit Airlines, 1) AS OP_CARRIER#3257, OP_CARRIER_FL_NUM#3029, ORIGIN#20, DEST#21, CRS_DEP_TIME#22, DEP_TIME#23, DEP_DELAY#24, TAXI_OUT#25, WHEELS_OFF#26, WHEELS_ON#27, TAXI_IN#28, CRS_ARR_TIME#29, ARR_TIME#30, ARR_DELAY#31, CANCELLED#32, DIVERTED#34, CRS_ELAPSED_TIME#35, ACTUAL_ELAPSED_TIME#36, AIR_TIME#37, DISTANCE#38]\n                                                   +- Project [FL_DATE#3007, regexp_replace(OP_CARRIER#3213, MQ, Envoy Air, 1) AS OP_CARRIER#3235, OP_CARRIER_FL_NUM#3029, ORIGIN#20, DEST#21, CRS_DEP_TIME#22, DEP_TIME#23, DEP_DELAY#24, TAXI_OUT#25, WHEELS_OFF#26, WHEELS_ON#27, TAXI_IN#28, CRS_ARR_TIME#29, ARR_TIME#30, ARR_DELAY#31, CANCELLED#32, DIVERTED#34, CRS_ELAPSED_TIME#35, ACTUAL_ELAPSED_TIME#36, AIR_TIME#37, DISTANCE#38]\n                                                      +- Project [FL_DATE#3007, regexp_replace(OP_CARRIER#3191, HA, Hawaiian Airlines, 1) AS OP_CARRIER#3213, OP_CARRIER_FL_NUM#3029, ORIGIN#20, DEST#21, CRS_DEP_TIME#22, DEP_TIME#23, DEP_DELAY#24, TAXI_OUT#25, WHEELS_OFF#26, WHEELS_ON#27, TAXI_IN#28, CRS_ARR_TIME#29, ARR_TIME#30, ARR_DELAY#31, CANCELLED#32, DIVERTED#34, CRS_ELAPSED_TIME#35, ACTUAL_ELAPSED_TIME#36, AIR_TIME#37, DISTANCE#38]\n                                                         +- Project [FL_DATE#3007, regexp_replace(OP_CARRIER#3169, G4, Allegiant Air, 1) AS OP_CARRIER#3191, OP_CARRIER_FL_NUM#3029, ORIGIN#20, DEST#21, CRS_DEP_TIME#22, DEP_TIME#23, DEP_DELAY#24, TAXI_OUT#25, WHEELS_OFF#26, WHEELS_ON#27, TAXI_IN#28, CRS_ARR_TIME#29, ARR_TIME#30, ARR_DELAY#31, CANCELLED#32, DIVERTED#34, CRS_ELAPSED_TIME#35, ACTUAL_ELAPSED_TIME#36, AIR_TIME#37, DISTANCE#38]\n                                                            +- Project [FL_DATE#3007, regexp_replace(OP_CARRIER#3147, F9, Frontier Airlines, 1) AS OP_CARRIER#3169, OP_CARRIER_FL_NUM#3029, ORIGIN#20, DEST#21, CRS_DEP_TIME#22, DEP_TIME#23, DEP_DELAY#24, TAXI_OUT#25, WHEELS_OFF#26, WHEELS_ON#27, TAXI_IN#28, CRS_ARR_TIME#29, ARR_TIME#30, ARR_DELAY#31, CANCELLED#32, DIVERTED#34, CRS_ELAPSED_TIME#35, ACTUAL_ELAPSED_TIME#36, AIR_TIME#37, DISTANCE#38]\n                                                               +- Project [FL_DATE#3007, regexp_replace(OP_CARRIER#3125, EV, ExpressJet, 1) AS OP_CARRIER#3147, OP_CARRIER_FL_NUM#3029, ORIGIN#20, DEST#21, CRS_DEP_TIME#22, DEP_TIME#23, DEP_DELAY#24, TAXI_OUT#25, WHEELS_OFF#26, WHEELS_ON#27, TAXI_IN#28, CRS_ARR_TIME#29, ARR_TIME#30, ARR_DELAY#31, CANCELLED#32, DIVERTED#34, CRS_ELAPSED_TIME#35, ACTUAL_ELAPSED_TIME#36, AIR_TIME#37, DISTANCE#38]\n                                                                  +- Project [FL_DATE#3007, regexp_replace(OP_CARRIER#3103, B6, JetBlue Airways, 1) AS OP_CARRIER#3125, OP_CARRIER_FL_NUM#3029, ORIGIN#20, DEST#21, CRS_DEP_TIME#22, DEP_TIME#23, DEP_DELAY#24, TAXI_OUT#25, WHEELS_OFF#26, WHEELS_ON#27, TAXI_IN#28, CRS_ARR_TIME#29, ARR_TIME#30, ARR_DELAY#31, CANCELLED#32, DIVERTED#34, CRS_ELAPSED_TIME#35, ACTUAL_ELAPSED_TIME#36, AIR_TIME#37, DISTANCE#38]\n                                                                     +- Project [FL_DATE#3007, regexp_replace(OP_CARRIER#3081, 9E, Endeavor Air, 1) AS OP_CARRIER#3103, OP_CARRIER_FL_NUM#3029, ORIGIN#20, DEST#21, CRS_DEP_TIME#22, DEP_TIME#23, DEP_DELAY#24, TAXI_OUT#25, WHEELS_OFF#26, WHEELS_ON#27, TAXI_IN#28, CRS_ARR_TIME#29, ARR_TIME#30, ARR_DELAY#31, CANCELLED#32, DIVERTED#34, CRS_ELAPSED_TIME#35, ACTUAL_ELAPSED_TIME#36, AIR_TIME#37, DISTANCE#38]\n                                                                        +- Project [FL_DATE#3007, regexp_replace(OP_CARRIER#3059, AS, Alaska Airlines, 1) AS OP_CARRIER#3081, OP_CARRIER_FL_NUM#3029, ORIGIN#20, DEST#21, CRS_DEP_TIME#22, DEP_TIME#23, DEP_DELAY#24, TAXI_OUT#25, WHEELS_OFF#26, WHEELS_ON#27, TAXI_IN#28, CRS_ARR_TIME#29, ARR_TIME#30, ARR_DELAY#31, CANCELLED#32, DIVERTED#34, CRS_ELAPSED_TIME#35, ACTUAL_ELAPSED_TIME#36, AIR_TIME#37, DISTANCE#38]\n                                                                           +- Project [FL_DATE#3007, regexp_replace(OP_CARRIER#18, UA, United Airlines, 1) AS OP_CARRIER#3059, OP_CARRIER_FL_NUM#3029, ORIGIN#20, DEST#21, CRS_DEP_TIME#22, DEP_TIME#23, DEP_DELAY#24, TAXI_OUT#25, WHEELS_OFF#26, WHEELS_ON#27, TAXI_IN#28, CRS_ARR_TIME#29, ARR_TIME#30, ARR_DELAY#31, CANCELLED#32, DIVERTED#34, CRS_ELAPSED_TIME#35, ACTUAL_ELAPSED_TIME#36, AIR_TIME#37, DISTANCE#38]\n                                                                              +- Project [FL_DATE#3007, OP_CARRIER#18, cast(OP_CARRIER_FL_NUM#19 as string) AS OP_CARRIER_FL_NUM#3029, ORIGIN#20, DEST#21, CRS_DEP_TIME#22, DEP_TIME#23, DEP_DELAY#24, TAXI_OUT#25, WHEELS_OFF#26, WHEELS_ON#27, TAXI_IN#28, CRS_ARR_TIME#29, ARR_TIME#30, ARR_DELAY#31, CANCELLED#32, DIVERTED#34, CRS_ELAPSED_TIME#35, ACTUAL_ELAPSED_TIME#36, AIR_TIME#37, DISTANCE#38]\n                                                                                 +- Project [to_date(FL_DATE#17, Some(yyyy-MM-dd), Some(Asia/Calcutta)) AS FL_DATE#3007, OP_CARRIER#18, OP_CARRIER_FL_NUM#19, ORIGIN#20, DEST#21, CRS_DEP_TIME#22, DEP_TIME#23, DEP_DELAY#24, TAXI_OUT#25, WHEELS_OFF#26, WHEELS_ON#27, TAXI_IN#28, CRS_ARR_TIME#29, ARR_TIME#30, ARR_DELAY#31, CANCELLED#32, DIVERTED#34, CRS_ELAPSED_TIME#35, ACTUAL_ELAPSED_TIME#36, AIR_TIME#37, DISTANCE#38]\n                                                                                    +- Project [FL_DATE#17, OP_CARRIER#18, OP_CARRIER_FL_NUM#19, ORIGIN#20, DEST#21, CRS_DEP_TIME#22, DEP_TIME#23, DEP_DELAY#24, TAXI_OUT#25, WHEELS_OFF#26, WHEELS_ON#27, TAXI_IN#28, CRS_ARR_TIME#29, ARR_TIME#30, ARR_DELAY#31, CANCELLED#32, DIVERTED#34, CRS_ELAPSED_TIME#35, ACTUAL_ELAPSED_TIME#36, AIR_TIME#37, DISTANCE#38]\n                                                                                       +- Project [FL_DATE#17, OP_CARRIER#18, OP_CARRIER_FL_NUM#19, ORIGIN#20, DEST#21, CRS_DEP_TIME#22, DEP_TIME#23, DEP_DELAY#24, TAXI_OUT#25, WHEELS_OFF#26, WHEELS_ON#27, TAXI_IN#28, CRS_ARR_TIME#29, ARR_TIME#30, ARR_DELAY#31, CANCELLED#32, DIVERTED#34, CRS_ELAPSED_TIME#35, ACTUAL_ELAPSED_TIME#36, AIR_TIME#37, DISTANCE#38, Unnamed: 27#44]\n                                                                                          +- Project [FL_DATE#17, OP_CARRIER#18, OP_CARRIER_FL_NUM#19, ORIGIN#20, DEST#21, CRS_DEP_TIME#22, DEP_TIME#23, DEP_DELAY#24, TAXI_OUT#25, WHEELS_OFF#26, WHEELS_ON#27, TAXI_IN#28, CRS_ARR_TIME#29, ARR_TIME#30, ARR_DELAY#31, CANCELLED#32, DIVERTED#34, CRS_ELAPSED_TIME#35, ACTUAL_ELAPSED_TIME#36, AIR_TIME#37, DISTANCE#38, LATE_AIRCRAFT_DELAY#43, Unnamed: 27#44]\n                                                                                             +- Project [FL_DATE#17, OP_CARRIER#18, OP_CARRIER_FL_NUM#19, ORIGIN#20, DEST#21, CRS_DEP_TIME#22, DEP_TIME#23, DEP_DELAY#24, TAXI_OUT#25, WHEELS_OFF#26, WHEELS_ON#27, TAXI_IN#28, CRS_ARR_TIME#29, ARR_TIME#30, ARR_DELAY#31, CANCELLED#32, DIVERTED#34, CRS_ELAPSED_TIME#35, ACTUAL_ELAPSED_TIME#36, AIR_TIME#37, DISTANCE#38, SECURITY_DELAY#42, LATE_AIRCRAFT_DELAY#43, Unnamed: 27#44]\n                                                                                                +- Project [FL_DATE#17, OP_CARRIER#18, OP_CARRIER_FL_NUM#19, ORIGIN#20, DEST#21, CRS_DEP_TIME#22, DEP_TIME#23, DEP_DELAY#24, TAXI_OUT#25, WHEELS_OFF#26, WHEELS_ON#27, TAXI_IN#28, CRS_ARR_TIME#29, ARR_TIME#30, ARR_DELAY#31, CANCELLED#32, DIVERTED#34, CRS_ELAPSED_TIME#35, ACTUAL_ELAPSED_TIME#36, AIR_TIME#37, DISTANCE#38, NAS_DELAY#41, SECURITY_DELAY#42, LATE_AIRCRAFT_DELAY#43, Unnamed: 27#44]\n                                                                                                   +- Project [FL_DATE#17, OP_CARRIER#18, OP_CARRIER_FL_NUM#19, ORIGIN#20, DEST#21, CRS_DEP_TIME#22, DEP_TIME#23, DEP_DELAY#24, TAXI_OUT#25, WHEELS_OFF#26, WHEELS_ON#27, TAXI_IN#28, CRS_ARR_TIME#29, ARR_TIME#30, ARR_DELAY#31, CANCELLED#32, DIVERTED#34, CRS_ELAPSED_TIME#35, ACTUAL_ELAPSED_TIME#36, AIR_TIME#37, DISTANCE#38, WEATHER_DELAY#40, NAS_DELAY#41, SECURITY_DELAY#42, ... 2 more fields]\n                                                                                                      +- Project [FL_DATE#17, OP_CARRIER#18, OP_CARRIER_FL_NUM#19, ORIGIN#20, DEST#21, CRS_DEP_TIME#22, DEP_TIME#23, DEP_DELAY#24, TAXI_OUT#25, WHEELS_OFF#26, WHEELS_ON#27, TAXI_IN#28, CRS_ARR_TIME#29, ARR_TIME#30, ARR_DELAY#31, CANCELLED#32, DIVERTED#34, CRS_ELAPSED_TIME#35, ACTUAL_ELAPSED_TIME#36, AIR_TIME#37, DISTANCE#38, CARRIER_DELAY#39, WEATHER_DELAY#40, NAS_DELAY#41, ... 3 more fields]\n                                                                                                         +- Relation [FL_DATE#17,OP_CARRIER#18,OP_CARRIER_FL_NUM#19,ORIGIN#20,DEST#21,CRS_DEP_TIME#22,DEP_TIME#23,DEP_DELAY#24,TAXI_OUT#25,WHEELS_OFF#26,WHEELS_ON#27,TAXI_IN#28,CRS_ARR_TIME#29,ARR_TIME#30,ARR_DELAY#31,CANCELLED#32,CANCELLATION_CODE#33,DIVERTED#34,CRS_ELAPSED_TIME#35,ACTUAL_ELAPSED_TIME#36,AIR_TIME#37,DISTANCE#38,CARRIER_DELAY#39,WEATHER_DELAY#40,... 4 more fields] csv\n",
     "output_type": "error",
     "traceback": [
      "\u001b[1;31m---------------------------------------------------------------------------\u001b[0m",
      "\u001b[1;31mAnalysisException\u001b[0m                         Traceback (most recent call last)",
      "\u001b[1;32mc:\\Users\\amitv\\Downloads\\IQs\\Final-project-pyspark.ipynb Cell 31\u001b[0m in \u001b[0;36m<cell line: 1>\u001b[1;34m()\u001b[0m\n\u001b[1;32m----> <a href='vscode-notebook-cell:/c%3A/Users/amitv/Downloads/IQs/Final-project-pyspark.ipynb#X42sZmlsZQ%3D%3D?line=0'>1</a>\u001b[0m bd4\u001b[39m=\u001b[39mbd3\u001b[39m.\u001b[39;49mselect(\u001b[39m'\u001b[39;49m\u001b[39mDEP_DELAY\u001b[39;49m\u001b[39m'\u001b[39;49m,\n\u001b[0;32m      <a href='vscode-notebook-cell:/c%3A/Users/amitv/Downloads/IQs/Final-project-pyspark.ipynb#X42sZmlsZQ%3D%3D?line=1'>2</a>\u001b[0m              \u001b[39m'\u001b[39;49m\u001b[39mDISTANCE\u001b[39;49m\u001b[39m'\u001b[39;49m, \n\u001b[0;32m      <a href='vscode-notebook-cell:/c%3A/Users/amitv/Downloads/IQs/Final-project-pyspark.ipynb#X42sZmlsZQ%3D%3D?line=2'>3</a>\u001b[0m              \u001b[39m'\u001b[39;49m\u001b[39mFL_DAYOFWEEK\u001b[39;49m\u001b[39m'\u001b[39;49m,\n\u001b[0;32m      <a href='vscode-notebook-cell:/c%3A/Users/amitv/Downloads/IQs/Final-project-pyspark.ipynb#X42sZmlsZQ%3D%3D?line=3'>4</a>\u001b[0m              \u001b[39m'\u001b[39;49m\u001b[39mINDEX_CARRIER\u001b[39;49m\u001b[39m'\u001b[39;49m, \n\u001b[0;32m      <a href='vscode-notebook-cell:/c%3A/Users/amitv/Downloads/IQs/Final-project-pyspark.ipynb#X42sZmlsZQ%3D%3D?line=4'>5</a>\u001b[0m              \u001b[39m'\u001b[39;49m\u001b[39mTimeSlot\u001b[39;49m\u001b[39m'\u001b[39;49m,\n\u001b[0;32m      <a href='vscode-notebook-cell:/c%3A/Users/amitv/Downloads/IQs/Final-project-pyspark.ipynb#X42sZmlsZQ%3D%3D?line=5'>6</a>\u001b[0m              \u001b[39m'\u001b[39;49m\u001b[39mDelayed\u001b[39;49m\u001b[39m'\u001b[39;49m,\n\u001b[0;32m      <a href='vscode-notebook-cell:/c%3A/Users/amitv/Downloads/IQs/Final-project-pyspark.ipynb#X42sZmlsZQ%3D%3D?line=6'>7</a>\u001b[0m              \u001b[39m'\u001b[39;49m\u001b[39mFL_MONTH\u001b[39;49m\u001b[39m'\u001b[39;49m,\n\u001b[0;32m      <a href='vscode-notebook-cell:/c%3A/Users/amitv/Downloads/IQs/Final-project-pyspark.ipynb#X42sZmlsZQ%3D%3D?line=7'>8</a>\u001b[0m              \u001b[39m'\u001b[39;49m\u001b[39mACTUAL_ELAPSED_TIME\u001b[39;49m\u001b[39m'\u001b[39;49m,\n\u001b[0;32m      <a href='vscode-notebook-cell:/c%3A/Users/amitv/Downloads/IQs/Final-project-pyspark.ipynb#X42sZmlsZQ%3D%3D?line=8'>9</a>\u001b[0m              \u001b[39m'\u001b[39;49m\u001b[39mINDEX_ORIGIN\u001b[39;49m\u001b[39m'\u001b[39;49m)\n\u001b[0;32m     <a href='vscode-notebook-cell:/c%3A/Users/amitv/Downloads/IQs/Final-project-pyspark.ipynb#X42sZmlsZQ%3D%3D?line=10'>11</a>\u001b[0m bd4\u001b[39m.\u001b[39mlimit(\u001b[39m10\u001b[39m)\u001b[39m.\u001b[39mtoPandas()\n",
      "File \u001b[1;32mC:\\Amit\\spark-3.3.0-bin-hadoop3\\python\\pyspark\\sql\\dataframe.py:2023\u001b[0m, in \u001b[0;36mDataFrame.select\u001b[1;34m(self, *cols)\u001b[0m\n\u001b[0;32m   2002\u001b[0m \u001b[39mdef\u001b[39;00m \u001b[39mselect\u001b[39m(\u001b[39mself\u001b[39m, \u001b[39m*\u001b[39mcols: \u001b[39m\"\u001b[39m\u001b[39mColumnOrName\u001b[39m\u001b[39m\"\u001b[39m) \u001b[39m-\u001b[39m\u001b[39m>\u001b[39m \u001b[39m\"\u001b[39m\u001b[39mDataFrame\u001b[39m\u001b[39m\"\u001b[39m:  \u001b[39m# type: ignore[misc]\u001b[39;00m\n\u001b[0;32m   2003\u001b[0m     \u001b[39m\"\"\"Projects a set of expressions and returns a new :class:`DataFrame`.\u001b[39;00m\n\u001b[0;32m   2004\u001b[0m \n\u001b[0;32m   2005\u001b[0m \u001b[39m    .. versionadded:: 1.3.0\u001b[39;00m\n\u001b[1;32m   (...)\u001b[0m\n\u001b[0;32m   2021\u001b[0m \u001b[39m    [Row(name='Alice', age=12), Row(name='Bob', age=15)]\u001b[39;00m\n\u001b[0;32m   2022\u001b[0m \u001b[39m    \"\"\"\u001b[39;00m\n\u001b[1;32m-> 2023\u001b[0m     jdf \u001b[39m=\u001b[39m \u001b[39mself\u001b[39;49m\u001b[39m.\u001b[39;49m_jdf\u001b[39m.\u001b[39;49mselect(\u001b[39mself\u001b[39;49m\u001b[39m.\u001b[39;49m_jcols(\u001b[39m*\u001b[39;49mcols))\n\u001b[0;32m   2024\u001b[0m     \u001b[39mreturn\u001b[39;00m DataFrame(jdf, \u001b[39mself\u001b[39m\u001b[39m.\u001b[39msparkSession)\n",
      "File \u001b[1;32mC:\\Amit\\spark-3.3.0-bin-hadoop3\\python\\lib\\py4j-0.10.9.5-src.zip\\py4j\\java_gateway.py:1321\u001b[0m, in \u001b[0;36mJavaMember.__call__\u001b[1;34m(self, *args)\u001b[0m\n\u001b[0;32m   1315\u001b[0m command \u001b[39m=\u001b[39m proto\u001b[39m.\u001b[39mCALL_COMMAND_NAME \u001b[39m+\u001b[39m\\\n\u001b[0;32m   1316\u001b[0m     \u001b[39mself\u001b[39m\u001b[39m.\u001b[39mcommand_header \u001b[39m+\u001b[39m\\\n\u001b[0;32m   1317\u001b[0m     args_command \u001b[39m+\u001b[39m\\\n\u001b[0;32m   1318\u001b[0m     proto\u001b[39m.\u001b[39mEND_COMMAND_PART\n\u001b[0;32m   1320\u001b[0m answer \u001b[39m=\u001b[39m \u001b[39mself\u001b[39m\u001b[39m.\u001b[39mgateway_client\u001b[39m.\u001b[39msend_command(command)\n\u001b[1;32m-> 1321\u001b[0m return_value \u001b[39m=\u001b[39m get_return_value(\n\u001b[0;32m   1322\u001b[0m     answer, \u001b[39mself\u001b[39;49m\u001b[39m.\u001b[39;49mgateway_client, \u001b[39mself\u001b[39;49m\u001b[39m.\u001b[39;49mtarget_id, \u001b[39mself\u001b[39;49m\u001b[39m.\u001b[39;49mname)\n\u001b[0;32m   1324\u001b[0m \u001b[39mfor\u001b[39;00m temp_arg \u001b[39min\u001b[39;00m temp_args:\n\u001b[0;32m   1325\u001b[0m     temp_arg\u001b[39m.\u001b[39m_detach()\n",
      "File \u001b[1;32mC:\\Amit\\spark-3.3.0-bin-hadoop3\\python\\pyspark\\sql\\utils.py:196\u001b[0m, in \u001b[0;36mcapture_sql_exception.<locals>.deco\u001b[1;34m(*a, **kw)\u001b[0m\n\u001b[0;32m    192\u001b[0m converted \u001b[39m=\u001b[39m convert_exception(e\u001b[39m.\u001b[39mjava_exception)\n\u001b[0;32m    193\u001b[0m \u001b[39mif\u001b[39;00m \u001b[39mnot\u001b[39;00m \u001b[39misinstance\u001b[39m(converted, UnknownException):\n\u001b[0;32m    194\u001b[0m     \u001b[39m# Hide where the exception came from that shows a non-Pythonic\u001b[39;00m\n\u001b[0;32m    195\u001b[0m     \u001b[39m# JVM exception message.\u001b[39;00m\n\u001b[1;32m--> 196\u001b[0m     \u001b[39mraise\u001b[39;00m converted \u001b[39mfrom\u001b[39;00m \u001b[39mNone\u001b[39m\n\u001b[0;32m    197\u001b[0m \u001b[39melse\u001b[39;00m:\n\u001b[0;32m    198\u001b[0m     \u001b[39mraise\u001b[39;00m\n",
      "\u001b[1;31mAnalysisException\u001b[0m: Column 'FL_DAYOFWEEK' does not exist. Did you mean one of the following? [bd1.FL_DATE, bd1.AIR_TIME, bd1.ARR_DELAY, bd1.ARR_TIME, bd1.CANCELLED, bd1.DEP_TIME, bd1.DEST, bd1.DISTANCE, bd1.DIVERTED, INDEX_ORIGIN, bd1.ORIGIN, bd1.DEP_DELAY, bd1.Delayed, INDEX_CARRIER, bd1.TAXI_IN, bd1.TAXI_OUT, TimeSlot, bd1.OP_CARRIER, bd1.WHEELS_ON, bd1.CRS_DEP_TIME, bd1.WHEELS_OFF, bd1.CRS_ARR_TIME, bd1.CRS_ELAPSED_TIME, bd1.OP_CARRIER_FL_NUM, bd1.ACTUAL_ELAPSED_TIME];\n'Project [DEP_DELAY#3836, DISTANCE#38, 'FL_DAYOFWEEK, INDEX_CARRIER#4043, TimeSlot#3960, Delayed#3930, 'FL_MONTH, ACTUAL_ELAPSED_TIME#36, INDEX_ORIGIN#4129]\n+- Project [FL_DATE#3007, OP_CARRIER#3433, OP_CARRIER_FL_NUM#3029, ORIGIN#20, DEST#21, CRS_DEP_TIME#22, DEP_TIME#23, DEP_DELAY#3836, TAXI_OUT#25, WHEELS_OFF#26, WHEELS_ON#27, TAXI_IN#28, CRS_ARR_TIME#29, ARR_TIME#30, ARR_DELAY#3814, CANCELLED#32, DIVERTED#34, CRS_ELAPSED_TIME#35, ACTUAL_ELAPSED_TIME#36, AIR_TIME#37, DISTANCE#38, Delayed#3930, TimeSlot#3960, INDEX_CARRIER#4043, UDF(cast(ORIGIN#20 as string)) AS INDEX_ORIGIN#4129]\n   +- Project [FL_DATE#3007, OP_CARRIER#3433, OP_CARRIER_FL_NUM#3029, ORIGIN#20, DEST#21, CRS_DEP_TIME#22, DEP_TIME#23, DEP_DELAY#3836, TAXI_OUT#25, WHEELS_OFF#26, WHEELS_ON#27, TAXI_IN#28, CRS_ARR_TIME#29, ARR_TIME#30, ARR_DELAY#3814, CANCELLED#32, DIVERTED#34, CRS_ELAPSED_TIME#35, ACTUAL_ELAPSED_TIME#36, AIR_TIME#37, DISTANCE#38, Delayed#3930, TimeSlot#3960, UDF(cast(OP_CARRIER#3433 as string)) AS INDEX_CARRIER#4043]\n      +- Project [FL_DATE#3007, OP_CARRIER#3433, OP_CARRIER_FL_NUM#3029, ORIGIN#20, DEST#21, CRS_DEP_TIME#22, DEP_TIME#23, DEP_DELAY#3836, TAXI_OUT#25, WHEELS_OFF#26, WHEELS_ON#27, TAXI_IN#28, CRS_ARR_TIME#29, ARR_TIME#30, ARR_DELAY#3814, CANCELLED#32, DIVERTED#34, CRS_ELAPSED_TIME#35, ACTUAL_ELAPSED_TIME#36, AIR_TIME#37, DISTANCE#38, Delayed#3930, CASE WHEN (DEP_TIME#23 <= cast(800 as double)) THEN 1 WHEN ((cast(800 as double) < DEP_TIME#23) AND (DEP_TIME#23 <= cast(1200 as double))) THEN 2 WHEN ((cast(1200 as double) < DEP_TIME#23) AND (DEP_TIME#23 <= cast(1600 as double))) THEN 3 WHEN ((cast(1600 as double) < DEP_TIME#23) AND (DEP_TIME#23 <= cast(2100 as double))) THEN 4 ELSE 1 END AS TimeSlot#3960]\n         +- SubqueryAlias bd1\n            +- View (`bd1`, [FL_DATE#3007,OP_CARRIER#3433,OP_CARRIER_FL_NUM#3029,ORIGIN#20,DEST#21,CRS_DEP_TIME#22,DEP_TIME#23,DEP_DELAY#3836,TAXI_OUT#25,WHEELS_OFF#26,WHEELS_ON#27,TAXI_IN#28,CRS_ARR_TIME#29,ARR_TIME#30,ARR_DELAY#3814,CANCELLED#32,DIVERTED#34,CRS_ELAPSED_TIME#35,ACTUAL_ELAPSED_TIME#36,AIR_TIME#37,DISTANCE#38,Delayed#3930])\n               +- Project [FL_DATE#3007, OP_CARRIER#3433, OP_CARRIER_FL_NUM#3029, ORIGIN#20, DEST#21, CRS_DEP_TIME#22, DEP_TIME#23, DEP_DELAY#3836, TAXI_OUT#25, WHEELS_OFF#26, WHEELS_ON#27, TAXI_IN#28, CRS_ARR_TIME#29, ARR_TIME#30, ARR_DELAY#3814, CANCELLED#32, DIVERTED#34, CRS_ELAPSED_TIME#35, ACTUAL_ELAPSED_TIME#36, AIR_TIME#37, DISTANCE#38, cast((ARR_DELAY#3814 >= cast(15 as double)) as int) AS Delayed#3930]\n                  +- Project [FL_DATE#3007, OP_CARRIER#3433, OP_CARRIER_FL_NUM#3029, ORIGIN#20, DEST#21, CRS_DEP_TIME#22, DEP_TIME#23, (DEP_DELAY#24 / cast(60 as double)) AS DEP_DELAY#3836, TAXI_OUT#25, WHEELS_OFF#26, WHEELS_ON#27, TAXI_IN#28, CRS_ARR_TIME#29, ARR_TIME#30, ARR_DELAY#3814, CANCELLED#32, DIVERTED#34, CRS_ELAPSED_TIME#35, ACTUAL_ELAPSED_TIME#36, AIR_TIME#37, DISTANCE#38]\n                     +- Project [FL_DATE#3007, OP_CARRIER#3433, OP_CARRIER_FL_NUM#3029, ORIGIN#20, DEST#21, CRS_DEP_TIME#22, DEP_TIME#23, DEP_DELAY#24, TAXI_OUT#25, WHEELS_OFF#26, WHEELS_ON#27, TAXI_IN#28, CRS_ARR_TIME#29, ARR_TIME#30, (ARR_DELAY#31 / cast(60 as double)) AS ARR_DELAY#3814, CANCELLED#32, DIVERTED#34, CRS_ELAPSED_TIME#35, ACTUAL_ELAPSED_TIME#36, AIR_TIME#37, DISTANCE#38]\n                        +- Project [FL_DATE#3007, regexp_replace(OP_CARRIER#3411, DL, Delta Airlines, 1) AS OP_CARRIER#3433, OP_CARRIER_FL_NUM#3029, ORIGIN#20, DEST#21, CRS_DEP_TIME#22, DEP_TIME#23, DEP_DELAY#24, TAXI_OUT#25, WHEELS_OFF#26, WHEELS_ON#27, TAXI_IN#28, CRS_ARR_TIME#29, ARR_TIME#30, ARR_DELAY#31, CANCELLED#32, DIVERTED#34, CRS_ELAPSED_TIME#35, ACTUAL_ELAPSED_TIME#36, AIR_TIME#37, DISTANCE#38]\n                           +- Project [FL_DATE#3007, regexp_replace(OP_CARRIER#3389, AA, American Airlines, 1) AS OP_CARRIER#3411, OP_CARRIER_FL_NUM#3029, ORIGIN#20, DEST#21, CRS_DEP_TIME#22, DEP_TIME#23, DEP_DELAY#24, TAXI_OUT#25, WHEELS_OFF#26, WHEELS_ON#27, TAXI_IN#28, CRS_ARR_TIME#29, ARR_TIME#30, ARR_DELAY#31, CANCELLED#32, DIVERTED#34, CRS_ELAPSED_TIME#35, ACTUAL_ELAPSED_TIME#36, AIR_TIME#37, DISTANCE#38]\n                              +- Project [FL_DATE#3007, regexp_replace(OP_CARRIER#3367, YX, Republic Airways, 1) AS OP_CARRIER#3389, OP_CARRIER_FL_NUM#3029, ORIGIN#20, DEST#21, CRS_DEP_TIME#22, DEP_TIME#23, DEP_DELAY#24, TAXI_OUT#25, WHEELS_OFF#26, WHEELS_ON#27, TAXI_IN#28, CRS_ARR_TIME#29, ARR_TIME#30, ARR_DELAY#31, CANCELLED#32, DIVERTED#34, CRS_ELAPSED_TIME#35, ACTUAL_ELAPSED_TIME#36, AIR_TIME#37, DISTANCE#38]\n                                 +- Project [FL_DATE#3007, regexp_replace(OP_CARRIER#3345, YV, Mesa Airline, 1) AS OP_CARRIER#3367, OP_CARRIER_FL_NUM#3029, ORIGIN#20, DEST#21, CRS_DEP_TIME#22, DEP_TIME#23, DEP_DELAY#24, TAXI_OUT#25, WHEELS_OFF#26, WHEELS_ON#27, TAXI_IN#28, CRS_ARR_TIME#29, ARR_TIME#30, ARR_DELAY#31, CANCELLED#32, DIVERTED#34, CRS_ELAPSED_TIME#35, ACTUAL_ELAPSED_TIME#36, AIR_TIME#37, DISTANCE#38]\n                                    +- Project [FL_DATE#3007, regexp_replace(OP_CARRIER#3323, WN, Southwest Airlines, 1) AS OP_CARRIER#3345, OP_CARRIER_FL_NUM#3029, ORIGIN#20, DEST#21, CRS_DEP_TIME#22, DEP_TIME#23, DEP_DELAY#24, TAXI_OUT#25, WHEELS_OFF#26, WHEELS_ON#27, TAXI_IN#28, CRS_ARR_TIME#29, ARR_TIME#30, ARR_DELAY#31, CANCELLED#32, DIVERTED#34, CRS_ELAPSED_TIME#35, ACTUAL_ELAPSED_TIME#36, AIR_TIME#37, DISTANCE#38]\n                                       +- Project [FL_DATE#3007, regexp_replace(OP_CARRIER#3301, VX, Virgin America, 1) AS OP_CARRIER#3323, OP_CARRIER_FL_NUM#3029, ORIGIN#20, DEST#21, CRS_DEP_TIME#22, DEP_TIME#23, DEP_DELAY#24, TAXI_OUT#25, WHEELS_OFF#26, WHEELS_ON#27, TAXI_IN#28, CRS_ARR_TIME#29, ARR_TIME#30, ARR_DELAY#31, CANCELLED#32, DIVERTED#34, CRS_ELAPSED_TIME#35, ACTUAL_ELAPSED_TIME#36, AIR_TIME#37, DISTANCE#38]\n                                          +- Project [FL_DATE#3007, regexp_replace(OP_CARRIER#3279, OO, SkyWest Airlines, 1) AS OP_CARRIER#3301, OP_CARRIER_FL_NUM#3029, ORIGIN#20, DEST#21, CRS_DEP_TIME#22, DEP_TIME#23, DEP_DELAY#24, TAXI_OUT#25, WHEELS_OFF#26, WHEELS_ON#27, TAXI_IN#28, CRS_ARR_TIME#29, ARR_TIME#30, ARR_DELAY#31, CANCELLED#32, DIVERTED#34, CRS_ELAPSED_TIME#35, ACTUAL_ELAPSED_TIME#36, AIR_TIME#37, DISTANCE#38]\n                                             +- Project [FL_DATE#3007, regexp_replace(OP_CARRIER#3257, OH, PSA Airlines, 1) AS OP_CARRIER#3279, OP_CARRIER_FL_NUM#3029, ORIGIN#20, DEST#21, CRS_DEP_TIME#22, DEP_TIME#23, DEP_DELAY#24, TAXI_OUT#25, WHEELS_OFF#26, WHEELS_ON#27, TAXI_IN#28, CRS_ARR_TIME#29, ARR_TIME#30, ARR_DELAY#31, CANCELLED#32, DIVERTED#34, CRS_ELAPSED_TIME#35, ACTUAL_ELAPSED_TIME#36, AIR_TIME#37, DISTANCE#38]\n                                                +- Project [FL_DATE#3007, regexp_replace(OP_CARRIER#3235, NK, Spirit Airlines, 1) AS OP_CARRIER#3257, OP_CARRIER_FL_NUM#3029, ORIGIN#20, DEST#21, CRS_DEP_TIME#22, DEP_TIME#23, DEP_DELAY#24, TAXI_OUT#25, WHEELS_OFF#26, WHEELS_ON#27, TAXI_IN#28, CRS_ARR_TIME#29, ARR_TIME#30, ARR_DELAY#31, CANCELLED#32, DIVERTED#34, CRS_ELAPSED_TIME#35, ACTUAL_ELAPSED_TIME#36, AIR_TIME#37, DISTANCE#38]\n                                                   +- Project [FL_DATE#3007, regexp_replace(OP_CARRIER#3213, MQ, Envoy Air, 1) AS OP_CARRIER#3235, OP_CARRIER_FL_NUM#3029, ORIGIN#20, DEST#21, CRS_DEP_TIME#22, DEP_TIME#23, DEP_DELAY#24, TAXI_OUT#25, WHEELS_OFF#26, WHEELS_ON#27, TAXI_IN#28, CRS_ARR_TIME#29, ARR_TIME#30, ARR_DELAY#31, CANCELLED#32, DIVERTED#34, CRS_ELAPSED_TIME#35, ACTUAL_ELAPSED_TIME#36, AIR_TIME#37, DISTANCE#38]\n                                                      +- Project [FL_DATE#3007, regexp_replace(OP_CARRIER#3191, HA, Hawaiian Airlines, 1) AS OP_CARRIER#3213, OP_CARRIER_FL_NUM#3029, ORIGIN#20, DEST#21, CRS_DEP_TIME#22, DEP_TIME#23, DEP_DELAY#24, TAXI_OUT#25, WHEELS_OFF#26, WHEELS_ON#27, TAXI_IN#28, CRS_ARR_TIME#29, ARR_TIME#30, ARR_DELAY#31, CANCELLED#32, DIVERTED#34, CRS_ELAPSED_TIME#35, ACTUAL_ELAPSED_TIME#36, AIR_TIME#37, DISTANCE#38]\n                                                         +- Project [FL_DATE#3007, regexp_replace(OP_CARRIER#3169, G4, Allegiant Air, 1) AS OP_CARRIER#3191, OP_CARRIER_FL_NUM#3029, ORIGIN#20, DEST#21, CRS_DEP_TIME#22, DEP_TIME#23, DEP_DELAY#24, TAXI_OUT#25, WHEELS_OFF#26, WHEELS_ON#27, TAXI_IN#28, CRS_ARR_TIME#29, ARR_TIME#30, ARR_DELAY#31, CANCELLED#32, DIVERTED#34, CRS_ELAPSED_TIME#35, ACTUAL_ELAPSED_TIME#36, AIR_TIME#37, DISTANCE#38]\n                                                            +- Project [FL_DATE#3007, regexp_replace(OP_CARRIER#3147, F9, Frontier Airlines, 1) AS OP_CARRIER#3169, OP_CARRIER_FL_NUM#3029, ORIGIN#20, DEST#21, CRS_DEP_TIME#22, DEP_TIME#23, DEP_DELAY#24, TAXI_OUT#25, WHEELS_OFF#26, WHEELS_ON#27, TAXI_IN#28, CRS_ARR_TIME#29, ARR_TIME#30, ARR_DELAY#31, CANCELLED#32, DIVERTED#34, CRS_ELAPSED_TIME#35, ACTUAL_ELAPSED_TIME#36, AIR_TIME#37, DISTANCE#38]\n                                                               +- Project [FL_DATE#3007, regexp_replace(OP_CARRIER#3125, EV, ExpressJet, 1) AS OP_CARRIER#3147, OP_CARRIER_FL_NUM#3029, ORIGIN#20, DEST#21, CRS_DEP_TIME#22, DEP_TIME#23, DEP_DELAY#24, TAXI_OUT#25, WHEELS_OFF#26, WHEELS_ON#27, TAXI_IN#28, CRS_ARR_TIME#29, ARR_TIME#30, ARR_DELAY#31, CANCELLED#32, DIVERTED#34, CRS_ELAPSED_TIME#35, ACTUAL_ELAPSED_TIME#36, AIR_TIME#37, DISTANCE#38]\n                                                                  +- Project [FL_DATE#3007, regexp_replace(OP_CARRIER#3103, B6, JetBlue Airways, 1) AS OP_CARRIER#3125, OP_CARRIER_FL_NUM#3029, ORIGIN#20, DEST#21, CRS_DEP_TIME#22, DEP_TIME#23, DEP_DELAY#24, TAXI_OUT#25, WHEELS_OFF#26, WHEELS_ON#27, TAXI_IN#28, CRS_ARR_TIME#29, ARR_TIME#30, ARR_DELAY#31, CANCELLED#32, DIVERTED#34, CRS_ELAPSED_TIME#35, ACTUAL_ELAPSED_TIME#36, AIR_TIME#37, DISTANCE#38]\n                                                                     +- Project [FL_DATE#3007, regexp_replace(OP_CARRIER#3081, 9E, Endeavor Air, 1) AS OP_CARRIER#3103, OP_CARRIER_FL_NUM#3029, ORIGIN#20, DEST#21, CRS_DEP_TIME#22, DEP_TIME#23, DEP_DELAY#24, TAXI_OUT#25, WHEELS_OFF#26, WHEELS_ON#27, TAXI_IN#28, CRS_ARR_TIME#29, ARR_TIME#30, ARR_DELAY#31, CANCELLED#32, DIVERTED#34, CRS_ELAPSED_TIME#35, ACTUAL_ELAPSED_TIME#36, AIR_TIME#37, DISTANCE#38]\n                                                                        +- Project [FL_DATE#3007, regexp_replace(OP_CARRIER#3059, AS, Alaska Airlines, 1) AS OP_CARRIER#3081, OP_CARRIER_FL_NUM#3029, ORIGIN#20, DEST#21, CRS_DEP_TIME#22, DEP_TIME#23, DEP_DELAY#24, TAXI_OUT#25, WHEELS_OFF#26, WHEELS_ON#27, TAXI_IN#28, CRS_ARR_TIME#29, ARR_TIME#30, ARR_DELAY#31, CANCELLED#32, DIVERTED#34, CRS_ELAPSED_TIME#35, ACTUAL_ELAPSED_TIME#36, AIR_TIME#37, DISTANCE#38]\n                                                                           +- Project [FL_DATE#3007, regexp_replace(OP_CARRIER#18, UA, United Airlines, 1) AS OP_CARRIER#3059, OP_CARRIER_FL_NUM#3029, ORIGIN#20, DEST#21, CRS_DEP_TIME#22, DEP_TIME#23, DEP_DELAY#24, TAXI_OUT#25, WHEELS_OFF#26, WHEELS_ON#27, TAXI_IN#28, CRS_ARR_TIME#29, ARR_TIME#30, ARR_DELAY#31, CANCELLED#32, DIVERTED#34, CRS_ELAPSED_TIME#35, ACTUAL_ELAPSED_TIME#36, AIR_TIME#37, DISTANCE#38]\n                                                                              +- Project [FL_DATE#3007, OP_CARRIER#18, cast(OP_CARRIER_FL_NUM#19 as string) AS OP_CARRIER_FL_NUM#3029, ORIGIN#20, DEST#21, CRS_DEP_TIME#22, DEP_TIME#23, DEP_DELAY#24, TAXI_OUT#25, WHEELS_OFF#26, WHEELS_ON#27, TAXI_IN#28, CRS_ARR_TIME#29, ARR_TIME#30, ARR_DELAY#31, CANCELLED#32, DIVERTED#34, CRS_ELAPSED_TIME#35, ACTUAL_ELAPSED_TIME#36, AIR_TIME#37, DISTANCE#38]\n                                                                                 +- Project [to_date(FL_DATE#17, Some(yyyy-MM-dd), Some(Asia/Calcutta)) AS FL_DATE#3007, OP_CARRIER#18, OP_CARRIER_FL_NUM#19, ORIGIN#20, DEST#21, CRS_DEP_TIME#22, DEP_TIME#23, DEP_DELAY#24, TAXI_OUT#25, WHEELS_OFF#26, WHEELS_ON#27, TAXI_IN#28, CRS_ARR_TIME#29, ARR_TIME#30, ARR_DELAY#31, CANCELLED#32, DIVERTED#34, CRS_ELAPSED_TIME#35, ACTUAL_ELAPSED_TIME#36, AIR_TIME#37, DISTANCE#38]\n                                                                                    +- Project [FL_DATE#17, OP_CARRIER#18, OP_CARRIER_FL_NUM#19, ORIGIN#20, DEST#21, CRS_DEP_TIME#22, DEP_TIME#23, DEP_DELAY#24, TAXI_OUT#25, WHEELS_OFF#26, WHEELS_ON#27, TAXI_IN#28, CRS_ARR_TIME#29, ARR_TIME#30, ARR_DELAY#31, CANCELLED#32, DIVERTED#34, CRS_ELAPSED_TIME#35, ACTUAL_ELAPSED_TIME#36, AIR_TIME#37, DISTANCE#38]\n                                                                                       +- Project [FL_DATE#17, OP_CARRIER#18, OP_CARRIER_FL_NUM#19, ORIGIN#20, DEST#21, CRS_DEP_TIME#22, DEP_TIME#23, DEP_DELAY#24, TAXI_OUT#25, WHEELS_OFF#26, WHEELS_ON#27, TAXI_IN#28, CRS_ARR_TIME#29, ARR_TIME#30, ARR_DELAY#31, CANCELLED#32, DIVERTED#34, CRS_ELAPSED_TIME#35, ACTUAL_ELAPSED_TIME#36, AIR_TIME#37, DISTANCE#38, Unnamed: 27#44]\n                                                                                          +- Project [FL_DATE#17, OP_CARRIER#18, OP_CARRIER_FL_NUM#19, ORIGIN#20, DEST#21, CRS_DEP_TIME#22, DEP_TIME#23, DEP_DELAY#24, TAXI_OUT#25, WHEELS_OFF#26, WHEELS_ON#27, TAXI_IN#28, CRS_ARR_TIME#29, ARR_TIME#30, ARR_DELAY#31, CANCELLED#32, DIVERTED#34, CRS_ELAPSED_TIME#35, ACTUAL_ELAPSED_TIME#36, AIR_TIME#37, DISTANCE#38, LATE_AIRCRAFT_DELAY#43, Unnamed: 27#44]\n                                                                                             +- Project [FL_DATE#17, OP_CARRIER#18, OP_CARRIER_FL_NUM#19, ORIGIN#20, DEST#21, CRS_DEP_TIME#22, DEP_TIME#23, DEP_DELAY#24, TAXI_OUT#25, WHEELS_OFF#26, WHEELS_ON#27, TAXI_IN#28, CRS_ARR_TIME#29, ARR_TIME#30, ARR_DELAY#31, CANCELLED#32, DIVERTED#34, CRS_ELAPSED_TIME#35, ACTUAL_ELAPSED_TIME#36, AIR_TIME#37, DISTANCE#38, SECURITY_DELAY#42, LATE_AIRCRAFT_DELAY#43, Unnamed: 27#44]\n                                                                                                +- Project [FL_DATE#17, OP_CARRIER#18, OP_CARRIER_FL_NUM#19, ORIGIN#20, DEST#21, CRS_DEP_TIME#22, DEP_TIME#23, DEP_DELAY#24, TAXI_OUT#25, WHEELS_OFF#26, WHEELS_ON#27, TAXI_IN#28, CRS_ARR_TIME#29, ARR_TIME#30, ARR_DELAY#31, CANCELLED#32, DIVERTED#34, CRS_ELAPSED_TIME#35, ACTUAL_ELAPSED_TIME#36, AIR_TIME#37, DISTANCE#38, NAS_DELAY#41, SECURITY_DELAY#42, LATE_AIRCRAFT_DELAY#43, Unnamed: 27#44]\n                                                                                                   +- Project [FL_DATE#17, OP_CARRIER#18, OP_CARRIER_FL_NUM#19, ORIGIN#20, DEST#21, CRS_DEP_TIME#22, DEP_TIME#23, DEP_DELAY#24, TAXI_OUT#25, WHEELS_OFF#26, WHEELS_ON#27, TAXI_IN#28, CRS_ARR_TIME#29, ARR_TIME#30, ARR_DELAY#31, CANCELLED#32, DIVERTED#34, CRS_ELAPSED_TIME#35, ACTUAL_ELAPSED_TIME#36, AIR_TIME#37, DISTANCE#38, WEATHER_DELAY#40, NAS_DELAY#41, SECURITY_DELAY#42, ... 2 more fields]\n                                                                                                      +- Project [FL_DATE#17, OP_CARRIER#18, OP_CARRIER_FL_NUM#19, ORIGIN#20, DEST#21, CRS_DEP_TIME#22, DEP_TIME#23, DEP_DELAY#24, TAXI_OUT#25, WHEELS_OFF#26, WHEELS_ON#27, TAXI_IN#28, CRS_ARR_TIME#29, ARR_TIME#30, ARR_DELAY#31, CANCELLED#32, DIVERTED#34, CRS_ELAPSED_TIME#35, ACTUAL_ELAPSED_TIME#36, AIR_TIME#37, DISTANCE#38, CARRIER_DELAY#39, WEATHER_DELAY#40, NAS_DELAY#41, ... 3 more fields]\n                                                                                                         +- Relation [FL_DATE#17,OP_CARRIER#18,OP_CARRIER_FL_NUM#19,ORIGIN#20,DEST#21,CRS_DEP_TIME#22,DEP_TIME#23,DEP_DELAY#24,TAXI_OUT#25,WHEELS_OFF#26,WHEELS_ON#27,TAXI_IN#28,CRS_ARR_TIME#29,ARR_TIME#30,ARR_DELAY#31,CANCELLED#32,CANCELLATION_CODE#33,DIVERTED#34,CRS_ELAPSED_TIME#35,ACTUAL_ELAPSED_TIME#36,AIR_TIME#37,DISTANCE#38,CARRIER_DELAY#39,WEATHER_DELAY#40,... 4 more fields] csv\n"
     ]
    }
   ],
   "source": [
    "bd4=bd3.select('DEP_DELAY',\n",
    "             'DISTANCE', \n",
    "             'FL_DAYOFWEEK',\n",
    "             'INDEX_CARRIER', \n",
    "             'TimeSlot',\n",
    "             'Delayed',\n",
    "             'FL_MONTH',\n",
    "             'ACTUAL_ELAPSED_TIME',\n",
    "             'INDEX_ORIGIN')\n",
    "             \n",
    "bd4.limit(10).toPandas()"
   ]
  }
 ],
 "metadata": {
  "kernelspec": {
   "display_name": "Python 3.10.4 64-bit",
   "language": "python",
   "name": "python3"
  },
  "language_info": {
   "codemirror_mode": {
    "name": "ipython",
    "version": 3
   },
   "file_extension": ".py",
   "mimetype": "text/x-python",
   "name": "python",
   "nbconvert_exporter": "python",
   "pygments_lexer": "ipython3",
   "version": "3.10.4"
  },
  "orig_nbformat": 4,
  "vscode": {
   "interpreter": {
    "hash": "8c082ad94d003365404aaa792c2427edbdb355405d030d7fbdcd32a216153fc5"
   }
  }
 },
 "nbformat": 4,
 "nbformat_minor": 2
}
