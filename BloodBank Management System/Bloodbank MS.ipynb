{
 "cells": [
  {
   "cell_type": "code",
   "execution_count": null,
   "id": "c16b7050",
   "metadata": {},
   "outputs": [],
   "source": []
  },
  {
   "cell_type": "code",
   "execution_count": 2,
   "id": "3c804258",
   "metadata": {},
   "outputs": [],
   "source": [
    "def sign_up():\n",
    "    \n",
    "    name = input(\"Enter your Name :- \")\n",
    "    age = int(input(\"Enter your age :- \"))\n",
    "    contact = int(input(\"Enter your contact no. :- \"))\n",
    "    \n",
    "    pwd = input(\"Set a new Password :- \")\n",
    "    \n",
    "    import psycopg2\n",
    "\n",
    "    \n",
    "    conn = psycopg2.connect(database=\"bloodb\",user=\"postgres\",password=\"pgdbda\",host=\"127.0.0.1\",port=\"5432\")\n",
    "    \n",
    "    cur=conn.cursor()\n",
    "    \n",
    "    cur.execute('''insert into donor (donor_name,age,contact,password) values(%s,%s,%s,%s)''',(name,age,contact,pwd))\n",
    "    \n",
    "    \n",
    "    \n",
    "    #Retreiving user id based on conbtact number and displaying using fetchall()\n",
    "    \n",
    "    cur.execute('''select id from donor where contact=%s ''',(contact,))\n",
    "    f_var = cur.fetchall()\n",
    "    for i in f_var:\n",
    "        print(\"User id is :- \")\n",
    "        print(i[0])\n",
    "    \n",
    "    conn.commit()\n",
    "    conn.close()\n",
    "    print(\"Successfully Signed Up!!!\")"
   ]
  },
  {
   "cell_type": "code",
   "execution_count": 3,
   "id": "a4b563a4",
   "metadata": {},
   "outputs": [
    {
     "name": "stdout",
     "output_type": "stream",
     "text": [
      "User id is :- \n",
      "5\n",
      "Successfully Signed Up!!!\n"
     ]
    }
   ],
   "source": [
    "sign_up()"
   ]
  },
  {
   "cell_type": "code",
   "execution_count": 4,
   "id": "56f30b49",
   "metadata": {},
   "outputs": [],
   "source": [
    "def sign_in():\n",
    "    \n",
    " \n",
    "   \n",
    "    global u_id \n",
    "    u_id = int(input(\"Please enter your id :- \"))\n",
    "    pwd = input(\"Please enter your password :- \") \n",
    "    \n",
    "    import psycopg2\n",
    "\n",
    "    \n",
    "    conn = psycopg2.connect(database=\"bloodb\",user=\"postgres\",password=\"pgdbda\",host=\"127.0.0.1\",port=\"5432\")\n",
    "    \n",
    "    cur=conn.cursor()\n",
    "    \n",
    "    cur.execute('''select id,password from donor where id=%s ''',(u_id,))\n",
    "    f_var = cur.fetchall()\n",
    "    r_id = 0\n",
    "    r_pwd = 0\n",
    "    for i in f_var:\n",
    "       \n",
    "        r_id = i[0]\n",
    "        r_pwd = i[1]\n",
    "    if (u_id == r_id) and (pwd == r_pwd):\n",
    "        registration()\n",
    "    else:\n",
    "        print(\"Wrong credentials \")\n",
    "    conn.commit()\n",
    "    conn.close()\n",
    "    "
   ]
  },
  {
   "cell_type": "code",
   "execution_count": 7,
   "id": "4292db07",
   "metadata": {},
   "outputs": [],
   "source": [
    "sign_in()"
   ]
  },
  {
   "cell_type": "code",
   "execution_count": 6,
   "id": "6e6fac82",
   "metadata": {},
   "outputs": [],
   "source": [
    "def registration():\n",
    "    donor_id=input(\"Enter the id to which you want to update the blood status :- \")\n",
    "    bld_grp=input(\"Enter blood group of the sample :- \")\n",
    "    status=input(\"Enter status of blood sample as good or bad :- \")\n",
    "    \n",
    "    import psycopg2\n",
    "\n",
    "    \n",
    "    conn = psycopg2.connect(database=\"bloodb\",user=\"postgres\",password=\"pgdbda\",host=\"127.0.0.1\",port=\"5432\")\n",
    "    \n",
    "    cur=conn.cursor()\n",
    "    \n",
    "    cur.execute('''update donor set blood_group=%s where id =%s''',(bld_grp,donor_id))\n",
    "    conn.commit()\n",
    "    \n",
    "    cur.execute('''update donor set status_of_blood_sample = %s where id = %s  ''',(status,donor_id))\n",
    "    \n",
    "    cur.execute('''update blood_unit set count = count+1 where blood_group=%s''',(bld_grp,))\n",
    "    \n",
    "    \n",
    "    \n",
    "    conn.commit()\n",
    "    conn.close()\n",
    "    "
   ]
  },
  {
   "cell_type": "code",
   "execution_count": 12,
   "id": "e6f52230",
   "metadata": {},
   "outputs": [
    {
     "name": "stdout",
     "output_type": "stream",
     "text": [
      "Please enter your id :- 11\n",
      "Please enter your password :- sanku\n",
      "Please enter date in format of YYYY-MM-DD :- 2021-05-15\n",
      "You have booked : 2021-05-15  Please come on time. Thank you \n"
     ]
    }
   ],
   "source": [
    "sign_in()"
   ]
  },
  {
   "cell_type": "code",
   "execution_count": 19,
   "id": "1ff0ecfa",
   "metadata": {},
   "outputs": [],
   "source": [
    "def buyer():\n",
    "    \n",
    "    print(\"Buyer Sign Up\")\n",
    "   \n",
    "    buyer_name = input(\"Please Enter your Name :- \")\n",
    "    contact = input(\"Please Enter your Contact Number :- \")\n",
    "    b_pswd = input(\"Set new pasword for your account :- \")\n",
    "    \n",
    "    \n",
    "\n",
    "    import psycopg2\n",
    "\n",
    "    \n",
    "    \n",
    "    conn = psycopg2.connect(database=\"bloodb\",user=\"postgres\",password=\"pgdbda\",host=\"127.0.0.1\",port=\"5432\")\n",
    "    \n",
    "    cur=conn.cursor()\n",
    "    \n",
    "    cur.execute('''insert into purchase_record (buyer_name,contact,password) values(%s,%s,%s)''',(buyer_name,contact,b_pswd))\n",
    "    cur.execute('''select id from purchase_record where contact=%s''',(contact,))\n",
    "    rge=cur.fetchall()\n",
    "    for i in rge:\n",
    "        print(\"Buyer id is :- \")\n",
    "        print(i[0])\n",
    "\n",
    "    print(\"Successfully signed up\")\n",
    "    \n",
    "    conn.commit()\n",
    "    \n",
    "    conn.close()"
   ]
  },
  {
   "cell_type": "code",
   "execution_count": 20,
   "id": "f5c6706a",
   "metadata": {},
   "outputs": [
    {
     "name": "stdout",
     "output_type": "stream",
     "text": [
      "Buyer Sign Up\n",
      "Buyer id is :- \n",
      "5\n",
      "Successfully signed up\n"
     ]
    }
   ],
   "source": [
    "buyer()\n"
   ]
  },
  {
   "cell_type": "code",
   "execution_count": 10,
   "id": "7bbad9ff",
   "metadata": {},
   "outputs": [],
   "source": [
    "def buyer_sign_in():\n",
    "    \n",
    "    \n",
    "    global buyer_id \n",
    "    buyer_id = int(input(\"Please enter your id :- \"))\n",
    "    pwd = input(\"Please enter your password :- \") \n",
    "    \n",
    "    import psycopg2\n",
    "\n",
    "    \n",
    "    conn = psycopg2.connect(database=\"bloodb\",user=\"postgres\",password=\"pgdbda\",host=\"127.0.0.1\",port=\"5432\")\n",
    "    \n",
    "    cur=conn.cursor()\n",
    "    \n",
    "    cur.execute('''select id,password from purchase_record where id=%s ''',(buyer_id,))\n",
    "    f_var = cur.fetchall()\n",
    "    r_id = 0\n",
    "    r_pwd = 0\n",
    "    for i in f_var:\n",
    "       \n",
    "        r_id = i[0]\n",
    "        r_pwd = i[1]\n",
    "    if (buyer_id == r_id) and (pwd == r_pwd):\n",
    "        blood_availibility()\n",
    "        \n",
    "    else:\n",
    "        print(\"Wrong credentials \")\n",
    "    \n",
    "    "
   ]
  },
  {
   "cell_type": "code",
   "execution_count": 13,
   "id": "a4a6bf67",
   "metadata": {},
   "outputs": [
    {
     "name": "stdout",
     "output_type": "stream",
     "text": [
      "A+ --> 3\n"
     ]
    }
   ],
   "source": [
    "buyer_sign_in()"
   ]
  },
  {
   "cell_type": "code",
   "execution_count": 12,
   "id": "8448ed84",
   "metadata": {},
   "outputs": [],
   "source": [
    "def blood_availibility():\n",
    "    \n",
    "    \n",
    "    req_blood_group = input(\"Enter the required blood group\")\n",
    "    \n",
    "    import psycopg2\n",
    "\n",
    "    \n",
    "    conn = psycopg2.connect(database=\"bloodb\",user=\"postgres\",password=\"pgdbda\",host=\"127.0.0.1\",port=\"5432\")\n",
    "    \n",
    "    cur=conn.cursor()\n",
    "    \n",
    "    cur.execute(''' select blood_group, count as Quantity from blood_unit where blood_group=%s ''',(req_blood_group,))\n",
    "    \n",
    "    f_var = cur.fetchall()\n",
    "    \n",
    "    for i in f_var:\n",
    "        print(i[0], \"-->\", i[1])\n",
    "    conn.commit()\n",
    "    conn.close()\n",
    "    \n",
    "    "
   ]
  },
  {
   "cell_type": "code",
   "execution_count": null,
   "id": "debc627a",
   "metadata": {},
   "outputs": [],
   "source": []
  },
  {
   "cell_type": "code",
   "execution_count": 41,
   "id": "7c9ce820",
   "metadata": {},
   "outputs": [],
   "source": [
    "def blood_purchase():\n",
    "    \n",
    "    \n",
    "    quantity = int(input(\"Enter total Number of units yu want :- \"))\n",
    "    \n",
    "    import psycopg2\n",
    "\n",
    "    \n",
    "    conn = psycopg2.connect(database=\"bloodb\",user=\"postgres\",password=\"pgdbda\",host=\"127.0.0.1\",port=\"5432\")\n",
    "    \n",
    "    cur=conn.cursor()\n",
    "    \n",
    "    cur.execute(''' select id from blood_unit where blood_group = %s''',(req_blood_group,))\n",
    "    cur.execute(''' update purchase_record set quantity=%s where ''',(req_blood_group,))\n",
    "    f_var = cur.fetchall()\n",
    "    \n",
    "    # Displaying all the ids of required blood group\n",
    "    for i in f_var:\n",
    "            print(i)\n",
    "            \n",
    "            \n",
    "    cur.execute(''' select count(blood_group) from blood_unit where blood_group = %s''',(req_blood_group,))\n",
    "    \n",
    "    fetch_var = cur.fetchall()\n",
    "    \n",
    "    print(fetch_var)\n",
    "    \n",
    "    \n",
    "    for i in fetch_var:\n",
    "       \n",
    "        if i[0] >= quantity:\n",
    "            total_available = i[0]\n",
    "        \n",
    "            #diff = total_available - quantity\n",
    "            # Deleting quantity amount of blood units\n",
    "            \n",
    "            for i in range(quantity):\n",
    "                returned_id = f_var.pop()\n",
    "                \n",
    "                \n",
    "                cur.execute(''' delete from blood_unit where id = %s''',(returned_id,))\n",
    "                \n",
    "                \n",
    "            \n",
    "            \n",
    "            # Per unit amount is Rs 1000\n",
    "            \n",
    "            print(\"Your order amount is :- \",quantity*1000)\n",
    "        \n",
    "        else:\n",
    "            print(\"Sorry!!! Not enough stock!!!\")\n",
    "    conn.commit()\n",
    "    conn.close()"
   ]
  },
  {
   "cell_type": "code",
   "execution_count": 42,
   "id": "038c9abf",
   "metadata": {},
   "outputs": [
    {
     "name": "stdout",
     "output_type": "stream",
     "text": [
      "Enter total Number of units yu want :- 4\n",
      "(3,)\n",
      "(5,)\n",
      "(6,)\n",
      "(7,)\n",
      "(8,)\n",
      "(10,)\n",
      "(11,)\n",
      "(12,)\n",
      "(13,)\n",
      "[(9,)]\n",
      "Your order amount is :-  4000\n"
     ]
    }
   ],
   "source": [
    "blood_purchase()"
   ]
  },
  {
   "cell_type": "code",
   "execution_count": 14,
   "id": "1fa7c857",
   "metadata": {},
   "outputs": [],
   "source": [
    "def blood_buy():\n",
    "    \n",
    "    bloodgrp=input(\"Enter blood group which you want to buy :- \")\n",
    "    quantity = int(input(\"Enter total no.of blood bags you want :- \"))\n",
    "    \n",
    "    import psycopg2\n",
    "\n",
    "    \n",
    "    conn = psycopg2.connect(database=\"bloodb\",user=\"postgres\",password=\"pgdbda\",host=\"127.0.0.1\",port=\"5432\")\n",
    "    \n",
    "    cur=conn.cursor()\n",
    "    \n",
    "    cur.execute(''' select count from blood_unit where blood_group = %s''',(bloodgrp,))\n",
    "    \n",
    "    f_var = cur.fetchall()\n",
    "    \n",
    "    \n",
    "    \n",
    "    \n",
    "    for i in f_var:\n",
    "       \n",
    "        if i[0] >= quantity:\n",
    "            \n",
    "            cur.execute('''update blood_unit set count = count- %s where blood_group=%s''',(quantity,bloodgrp))\n",
    "               \n",
    "                \n",
    "            \n",
    "            \n",
    "            # Per unit amount is Rs 1000\n",
    "            \n",
    "            print(\"Purchase successful, Please pay : \",quantity*1000)\n",
    "        \n",
    "        else:\n",
    "            print(\"Sorry!!! Not enough stock!!!\")\n",
    "    conn.commit()\n",
    "    conn.close()"
   ]
  },
  {
   "cell_type": "code",
   "execution_count": 16,
   "id": "063b9d27",
   "metadata": {},
   "outputs": [
    {
     "name": "stdout",
     "output_type": "stream",
     "text": [
      "Purchase successful, Please pay :  2000\n"
     ]
    }
   ],
   "source": [
    "blood_buy()"
   ]
  },
  {
   "cell_type": "code",
   "execution_count": null,
   "id": "db60e70c",
   "metadata": {},
   "outputs": [],
   "source": [
    "import tkinter as tk\n",
    "import psycopg2\n",
    "from tkinter import *\n",
    "from tkinter import ttk\n",
    "\n",
    "root = tk.Tk()\n",
    "root.geometry(\"580x250\")\n",
    "root.title(\"Main Page\")"
   ]
  }
 ],
 "metadata": {
  "kernelspec": {
   "display_name": "Python 3.10.4 64-bit",
   "language": "python",
   "name": "python3"
  },
  "language_info": {
   "codemirror_mode": {
    "name": "ipython",
    "version": 3
   },
   "file_extension": ".py",
   "mimetype": "text/x-python",
   "name": "python",
   "nbconvert_exporter": "python",
   "pygments_lexer": "ipython3",
   "version": "3.10.4"
  },
  "vscode": {
   "interpreter": {
    "hash": "8c082ad94d003365404aaa792c2427edbdb355405d030d7fbdcd32a216153fc5"
   }
  }
 },
 "nbformat": 4,
 "nbformat_minor": 5
}
